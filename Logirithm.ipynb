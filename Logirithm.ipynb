{
 "cells": [
  {
   "cell_type": "code",
   "execution_count": 1,
   "id": "d49c4bca-b9ab-4c75-9c5f-bb38bbab2a35",
   "metadata": {},
   "outputs": [],
   "source": [
    "import pandas as pd\n",
    "import numpy as np\n",
    "import matplotlib.pyplot as plt\n",
    "import seaborn as sns\n",
    "\n",
    "import re\n",
    "\n",
    "from sklearn.model_selection import train_test_split\n",
    "from sklearn.linear_model import LinearRegression"
   ]
  },
  {
   "cell_type": "code",
   "execution_count": 2,
   "id": "bf056a83-43ec-405d-b49b-447489b98878",
   "metadata": {},
   "outputs": [],
   "source": [
    "df = pd.read_csv('electriccars.csv')"
   ]
  },
  {
   "cell_type": "code",
   "execution_count": 3,
   "id": "86cb8985-dbaa-4d93-9eb1-bd0c0a97693e",
   "metadata": {},
   "outputs": [
    {
     "data": {
      "text/html": [
       "<div>\n",
       "<style scoped>\n",
       "    .dataframe tbody tr th:only-of-type {\n",
       "        vertical-align: middle;\n",
       "    }\n",
       "\n",
       "    .dataframe tbody tr th {\n",
       "        vertical-align: top;\n",
       "    }\n",
       "\n",
       "    .dataframe thead th {\n",
       "        text-align: right;\n",
       "    }\n",
       "</style>\n",
       "<table border=\"1\" class=\"dataframe\">\n",
       "  <thead>\n",
       "    <tr style=\"text-align: right;\">\n",
       "      <th></th>\n",
       "      <th>Name</th>\n",
       "      <th>Subtitle</th>\n",
       "      <th>Acceleration</th>\n",
       "      <th>TopSpeed</th>\n",
       "      <th>Range</th>\n",
       "      <th>Efficiency</th>\n",
       "      <th>FastChargeSpeed</th>\n",
       "      <th>Drive</th>\n",
       "      <th>NumberofSeats</th>\n",
       "      <th>PriceinGermany</th>\n",
       "      <th>PriceinUK</th>\n",
       "    </tr>\n",
       "  </thead>\n",
       "  <tbody>\n",
       "    <tr>\n",
       "      <th>0</th>\n",
       "      <td>Opel Ampera-e</td>\n",
       "      <td>Battery Electric Vehicle |       58 kWh</td>\n",
       "      <td>7.3 sec</td>\n",
       "      <td>150 km/h</td>\n",
       "      <td>335 km</td>\n",
       "      <td>173 Wh/km</td>\n",
       "      <td>210 km/h</td>\n",
       "      <td>Front Wheel Drive</td>\n",
       "      <td>5</td>\n",
       "      <td>€42,990</td>\n",
       "      <td>NaN</td>\n",
       "    </tr>\n",
       "    <tr>\n",
       "      <th>1</th>\n",
       "      <td>Renault Kangoo Maxi ZE 33</td>\n",
       "      <td>Battery Electric Vehicle |       31 kWh</td>\n",
       "      <td>22.4 sec</td>\n",
       "      <td>130 km/h</td>\n",
       "      <td>160 km</td>\n",
       "      <td>194 Wh/km</td>\n",
       "      <td>-</td>\n",
       "      <td>Front Wheel Drive</td>\n",
       "      <td>5</td>\n",
       "      <td>NaN</td>\n",
       "      <td>£31,680</td>\n",
       "    </tr>\n",
       "  </tbody>\n",
       "</table>\n",
       "</div>"
      ],
      "text/plain": [
       "                        Name                                  Subtitle  \\\n",
       "0             Opel Ampera-e   Battery Electric Vehicle |       58 kWh    \n",
       "1  Renault Kangoo Maxi ZE 33  Battery Electric Vehicle |       31 kWh    \n",
       "\n",
       "  Acceleration  TopSpeed   Range Efficiency FastChargeSpeed  \\\n",
       "0      7.3 sec  150 km/h  335 km  173 Wh/km        210 km/h   \n",
       "1     22.4 sec  130 km/h  160 km  194 Wh/km               -   \n",
       "\n",
       "               Drive  NumberofSeats PriceinGermany PriceinUK  \n",
       "0  Front Wheel Drive              5        €42,990       NaN  \n",
       "1  Front Wheel Drive              5            NaN   £31,680  "
      ]
     },
     "execution_count": 3,
     "metadata": {},
     "output_type": "execute_result"
    }
   ],
   "source": [
    "df.head(2)"
   ]
  },
  {
   "cell_type": "code",
   "execution_count": 4,
   "id": "a315c345-7c9b-4561-8a15-aade62ba30bc",
   "metadata": {},
   "outputs": [
    {
     "data": {
      "text/plain": [
       "(180, 11)"
      ]
     },
     "execution_count": 4,
     "metadata": {},
     "output_type": "execute_result"
    }
   ],
   "source": [
    "df.shape"
   ]
  },
  {
   "cell_type": "code",
   "execution_count": 5,
   "id": "f19c881c-5d8d-4472-bcc2-7574ced81d80",
   "metadata": {},
   "outputs": [
    {
     "data": {
      "text/plain": [
       "Name                0\n",
       "Subtitle            0\n",
       "Acceleration        0\n",
       "TopSpeed            0\n",
       "Range               0\n",
       "Efficiency          0\n",
       "FastChargeSpeed     0\n",
       "Drive               0\n",
       "NumberofSeats       0\n",
       "PriceinGermany     12\n",
       "PriceinUK          44\n",
       "dtype: int64"
      ]
     },
     "execution_count": 5,
     "metadata": {},
     "output_type": "execute_result"
    }
   ],
   "source": [
    "df.isna().sum()"
   ]
  },
  {
   "cell_type": "code",
   "execution_count": 6,
   "id": "f1546b5b-e0f8-46f4-b4a5-0135c0f0d904",
   "metadata": {},
   "outputs": [],
   "source": [
    "#Data Cleaning\n",
    "\n",
    "# extract numeric data\n",
    "def extract_num(x):\n",
    "    \"\"\"\n",
    "    this function extracts the numeric data from the string \n",
    "    and converts the data type to float. \n",
    "    It uses a regex to extact intergers and floats.\n",
    "    \"\"\"\n",
    "    return float(re.findall(r\"[-+]?\\d*\\.?\\d+|\\d+\", x)[0])"
   ]
  },
  {
   "cell_type": "code",
   "execution_count": 7,
   "id": "02cdd87e-9198-4e59-ba07-e75b594a257e",
   "metadata": {},
   "outputs": [
    {
     "data": {
      "text/plain": [
       "'7.3 sec'"
      ]
     },
     "execution_count": 7,
     "metadata": {},
     "output_type": "execute_result"
    }
   ],
   "source": [
    "df['Acceleration'][0]"
   ]
  },
  {
   "cell_type": "code",
   "execution_count": 8,
   "id": "367a969f-68fc-4477-bfb8-d92d72cce7d2",
   "metadata": {},
   "outputs": [
    {
     "name": "stdout",
     "output_type": "stream",
     "text": [
      "7.3\n",
      "<class 'float'>\n"
     ]
    }
   ],
   "source": [
    "print(extract_num(df['Acceleration'][0]))\n",
    "print(type(extract_num(df['Acceleration'][0])))"
   ]
  },
  {
   "cell_type": "code",
   "execution_count": 9,
   "id": "9fe65a72-d442-4fd4-9ef2-b60f21adcd8b",
   "metadata": {},
   "outputs": [],
   "source": [
    "df['BatteryCapacity'] = df['Subtitle'].apply(extract_num)"
   ]
  },
  {
   "cell_type": "code",
   "execution_count": 10,
   "id": "f8f39c44-828d-4e09-8c80-10c1ba458b7e",
   "metadata": {},
   "outputs": [],
   "source": [
    "# extract brand name from name\n",
    "df['BrandName'] = df['Name'].apply(lambda x: x.split()[0])"
   ]
  },
  {
   "cell_type": "code",
   "execution_count": 11,
   "id": "dc54281e-cb20-4649-a827-5c4c6792dcb7",
   "metadata": {},
   "outputs": [
    {
     "data": {
      "text/plain": [
       "['Opel', 'Ampera-e']"
      ]
     },
     "execution_count": 11,
     "metadata": {},
     "output_type": "execute_result"
    }
   ],
   "source": [
    "# example\n",
    "df['Name'][0].split()"
   ]
  },
  {
   "cell_type": "code",
   "execution_count": 12,
   "id": "f6ac11f3-9bec-4fa5-99f2-f1ad26a6d162",
   "metadata": {},
   "outputs": [
    {
     "data": {
      "text/plain": [
       "'Opel'"
      ]
     },
     "execution_count": 12,
     "metadata": {},
     "output_type": "execute_result"
    }
   ],
   "source": [
    "df['Name'][0].split()[0]"
   ]
  },
  {
   "cell_type": "code",
   "execution_count": 13,
   "id": "a1eaa37c-7f52-4743-bde4-ad669f382195",
   "metadata": {},
   "outputs": [],
   "source": [
    "for col_name in ['Acceleration', 'TopSpeed', 'Range', 'Efficiency']:\n",
    "    df[col_name] = df[col_name].apply(extract_num)"
   ]
  },
  {
   "cell_type": "code",
   "execution_count": 14,
   "id": "7865516d-227a-4983-988e-64cf1bf47829",
   "metadata": {},
   "outputs": [],
   "source": [
    "df.drop(columns=['PriceinUK', 'Subtitle'] , axis=1, inplace=True)"
   ]
  },
  {
   "cell_type": "code",
   "execution_count": 15,
   "id": "d31ca9c5-98c7-4331-bbc2-2119c375417f",
   "metadata": {},
   "outputs": [],
   "source": [
    "df['PriceinGermany'] = df['PriceinGermany']\\\n",
    "                                           .fillna('-1')\\\n",
    "                                           .apply(lambda x: re.sub(',', '', x))\\\n",
    "                                           .apply(extract_num)\\\n",
    "                                           .replace(-1, np.nan)"
   ]
  },
  {
   "cell_type": "code",
   "execution_count": 16,
   "id": "17d09166-ef8a-442b-9c7d-5c1988f5bacb",
   "metadata": {},
   "outputs": [],
   "source": [
    "FastChargeSpeed=[]\n",
    "for item in df['FastChargeSpeed']:\n",
    "    FastChargeSpeed+=[int(item.replace(' km/h','').replace('-','0'))]\n",
    "df['FastChargeSpeed']=FastChargeSpeed"
   ]
  },
  {
   "cell_type": "code",
   "execution_count": 17,
   "id": "98447cd9-ca85-430d-a3b9-f38d6756666b",
   "metadata": {},
   "outputs": [],
   "source": [
    "df['FastChargeSpeed'] = df['FastChargeSpeed'].replace(0, np.nan)"
   ]
  },
  {
   "cell_type": "code",
   "execution_count": 18,
   "id": "2617441d-7a5f-4511-a519-5a6f6651aa92",
   "metadata": {},
   "outputs": [
    {
     "data": {
      "text/html": [
       "<div>\n",
       "<style scoped>\n",
       "    .dataframe tbody tr th:only-of-type {\n",
       "        vertical-align: middle;\n",
       "    }\n",
       "\n",
       "    .dataframe tbody tr th {\n",
       "        vertical-align: top;\n",
       "    }\n",
       "\n",
       "    .dataframe thead th {\n",
       "        text-align: right;\n",
       "    }\n",
       "</style>\n",
       "<table border=\"1\" class=\"dataframe\">\n",
       "  <thead>\n",
       "    <tr style=\"text-align: right;\">\n",
       "      <th></th>\n",
       "      <th>Name</th>\n",
       "      <th>Acceleration</th>\n",
       "      <th>TopSpeed</th>\n",
       "      <th>Range</th>\n",
       "      <th>Efficiency</th>\n",
       "      <th>FastChargeSpeed</th>\n",
       "      <th>Drive</th>\n",
       "      <th>NumberofSeats</th>\n",
       "      <th>PriceinGermany</th>\n",
       "      <th>BatteryCapacity</th>\n",
       "      <th>BrandName</th>\n",
       "    </tr>\n",
       "  </thead>\n",
       "  <tbody>\n",
       "    <tr>\n",
       "      <th>0</th>\n",
       "      <td>Opel Ampera-e</td>\n",
       "      <td>7.3</td>\n",
       "      <td>150.0</td>\n",
       "      <td>335.0</td>\n",
       "      <td>173.0</td>\n",
       "      <td>210.0</td>\n",
       "      <td>Front Wheel Drive</td>\n",
       "      <td>5</td>\n",
       "      <td>42990.0</td>\n",
       "      <td>58.0</td>\n",
       "      <td>Opel</td>\n",
       "    </tr>\n",
       "    <tr>\n",
       "      <th>1</th>\n",
       "      <td>Renault Kangoo Maxi ZE 33</td>\n",
       "      <td>22.4</td>\n",
       "      <td>130.0</td>\n",
       "      <td>160.0</td>\n",
       "      <td>194.0</td>\n",
       "      <td>NaN</td>\n",
       "      <td>Front Wheel Drive</td>\n",
       "      <td>5</td>\n",
       "      <td>NaN</td>\n",
       "      <td>31.0</td>\n",
       "      <td>Renault</td>\n",
       "    </tr>\n",
       "  </tbody>\n",
       "</table>\n",
       "</div>"
      ],
      "text/plain": [
       "                        Name  Acceleration  TopSpeed  Range  Efficiency  \\\n",
       "0             Opel Ampera-e            7.3     150.0  335.0       173.0   \n",
       "1  Renault Kangoo Maxi ZE 33          22.4     130.0  160.0       194.0   \n",
       "\n",
       "   FastChargeSpeed              Drive  NumberofSeats  PriceinGermany  \\\n",
       "0            210.0  Front Wheel Drive              5         42990.0   \n",
       "1              NaN  Front Wheel Drive              5             NaN   \n",
       "\n",
       "   BatteryCapacity BrandName  \n",
       "0             58.0      Opel  \n",
       "1             31.0   Renault  "
      ]
     },
     "execution_count": 18,
     "metadata": {},
     "output_type": "execute_result"
    }
   ],
   "source": [
    "df.head(2)"
   ]
  },
  {
   "cell_type": "code",
   "execution_count": 19,
   "id": "3dd422e9-a796-4c03-b257-725229b4cd6c",
   "metadata": {},
   "outputs": [
    {
     "name": "stdout",
     "output_type": "stream",
     "text": [
      "<class 'pandas.core.frame.DataFrame'>\n",
      "RangeIndex: 180 entries, 0 to 179\n",
      "Data columns (total 11 columns):\n",
      " #   Column           Non-Null Count  Dtype  \n",
      "---  ------           --------------  -----  \n",
      " 0   Name             180 non-null    object \n",
      " 1   Acceleration     180 non-null    float64\n",
      " 2   TopSpeed         180 non-null    float64\n",
      " 3   Range            180 non-null    float64\n",
      " 4   Efficiency       180 non-null    float64\n",
      " 5   FastChargeSpeed  175 non-null    float64\n",
      " 6   Drive            180 non-null    object \n",
      " 7   NumberofSeats    180 non-null    int64  \n",
      " 8   PriceinGermany   168 non-null    float64\n",
      " 9   BatteryCapacity  180 non-null    float64\n",
      " 10  BrandName        180 non-null    object \n",
      "dtypes: float64(7), int64(1), object(3)\n",
      "memory usage: 15.6+ KB\n"
     ]
    }
   ],
   "source": [
    "# datatypes of cleaned dataset\n",
    "df.info()"
   ]
  },
  {
   "cell_type": "code",
   "execution_count": 20,
   "id": "5be76422-6a97-40e3-b2cb-c65d5ca2f09c",
   "metadata": {},
   "outputs": [
    {
     "data": {
      "text/plain": [
       "(180, 11)"
      ]
     },
     "execution_count": 20,
     "metadata": {},
     "output_type": "execute_result"
    }
   ],
   "source": [
    "# shape of cleaned dataset\n",
    "df.shape"
   ]
  },
  {
   "cell_type": "code",
   "execution_count": 21,
   "id": "d2406ae9-c1b0-46f5-852d-24b621daeca9",
   "metadata": {},
   "outputs": [],
   "source": [
    " df1 = df.dropna()"
   ]
  },
  {
   "cell_type": "code",
   "execution_count": 22,
   "id": "c07d0734-3e81-4c42-b3a9-75b9600fd236",
   "metadata": {},
   "outputs": [
    {
     "data": {
      "text/plain": [
       "(164, 11)"
      ]
     },
     "execution_count": 22,
     "metadata": {},
     "output_type": "execute_result"
    }
   ],
   "source": [
    "df1.shape"
   ]
  },
  {
   "cell_type": "code",
   "execution_count": 23,
   "id": "2551adbb-ba1c-4666-aac9-4e4d10b5e3ac",
   "metadata": {},
   "outputs": [
    {
     "data": {
      "text/plain": [
       "Name               0\n",
       "Acceleration       0\n",
       "TopSpeed           0\n",
       "Range              0\n",
       "Efficiency         0\n",
       "FastChargeSpeed    0\n",
       "Drive              0\n",
       "NumberofSeats      0\n",
       "PriceinGermany     0\n",
       "BatteryCapacity    0\n",
       "BrandName          0\n",
       "dtype: int64"
      ]
     },
     "execution_count": 23,
     "metadata": {},
     "output_type": "execute_result"
    }
   ],
   "source": [
    "df1.isnull().sum()"
   ]
  },
  {
   "cell_type": "code",
   "execution_count": 24,
   "id": "9e1e9dac-176d-4d03-b086-c221f4459616",
   "metadata": {},
   "outputs": [
    {
     "data": {
      "text/html": [
       "<div>\n",
       "<style scoped>\n",
       "    .dataframe tbody tr th:only-of-type {\n",
       "        vertical-align: middle;\n",
       "    }\n",
       "\n",
       "    .dataframe tbody tr th {\n",
       "        vertical-align: top;\n",
       "    }\n",
       "\n",
       "    .dataframe thead th {\n",
       "        text-align: right;\n",
       "    }\n",
       "</style>\n",
       "<table border=\"1\" class=\"dataframe\">\n",
       "  <thead>\n",
       "    <tr style=\"text-align: right;\">\n",
       "      <th></th>\n",
       "      <th>Name</th>\n",
       "      <th>Acceleration</th>\n",
       "      <th>TopSpeed</th>\n",
       "      <th>Range</th>\n",
       "      <th>Efficiency</th>\n",
       "      <th>FastChargeSpeed</th>\n",
       "      <th>Drive</th>\n",
       "      <th>NumberofSeats</th>\n",
       "      <th>PriceinGermany</th>\n",
       "      <th>BatteryCapacity</th>\n",
       "      <th>BrandName</th>\n",
       "    </tr>\n",
       "  </thead>\n",
       "  <tbody>\n",
       "    <tr>\n",
       "      <th>0</th>\n",
       "      <td>Opel Ampera-e</td>\n",
       "      <td>7.3</td>\n",
       "      <td>150.0</td>\n",
       "      <td>335.0</td>\n",
       "      <td>173.0</td>\n",
       "      <td>210.0</td>\n",
       "      <td>Front Wheel Drive</td>\n",
       "      <td>5</td>\n",
       "      <td>42990.0</td>\n",
       "      <td>58.0</td>\n",
       "      <td>Opel</td>\n",
       "    </tr>\n",
       "    <tr>\n",
       "      <th>2</th>\n",
       "      <td>Nissan Leaf</td>\n",
       "      <td>7.9</td>\n",
       "      <td>144.0</td>\n",
       "      <td>220.0</td>\n",
       "      <td>164.0</td>\n",
       "      <td>230.0</td>\n",
       "      <td>Front Wheel Drive</td>\n",
       "      <td>5</td>\n",
       "      <td>29990.0</td>\n",
       "      <td>36.0</td>\n",
       "      <td>Nissan</td>\n",
       "    </tr>\n",
       "  </tbody>\n",
       "</table>\n",
       "</div>"
      ],
      "text/plain": [
       "             Name  Acceleration  TopSpeed  Range  Efficiency  FastChargeSpeed  \\\n",
       "0  Opel Ampera-e            7.3     150.0  335.0       173.0            210.0   \n",
       "2    Nissan Leaf            7.9     144.0  220.0       164.0            230.0   \n",
       "\n",
       "               Drive  NumberofSeats  PriceinGermany  BatteryCapacity BrandName  \n",
       "0  Front Wheel Drive              5         42990.0             58.0      Opel  \n",
       "2  Front Wheel Drive              5         29990.0             36.0    Nissan  "
      ]
     },
     "execution_count": 24,
     "metadata": {},
     "output_type": "execute_result"
    }
   ],
   "source": [
    "df1.head(2)"
   ]
  },
  {
   "cell_type": "code",
   "execution_count": 25,
   "id": "c1053ca6-e21e-41d1-8d48-c01692695a50",
   "metadata": {},
   "outputs": [],
   "source": [
    "cars = df1.drop_duplicates()"
   ]
  },
  {
   "cell_type": "code",
   "execution_count": 26,
   "id": "e7bf2d38-1c2a-4226-8c4d-3416028cab79",
   "metadata": {},
   "outputs": [
    {
     "data": {
      "text/plain": [
       "(163, 11)"
      ]
     },
     "execution_count": 26,
     "metadata": {},
     "output_type": "execute_result"
    }
   ],
   "source": [
    "cars.shape"
   ]
  },
  {
   "cell_type": "code",
   "execution_count": 27,
   "id": "18214ad7-253a-4fd9-b216-8c200f527a3c",
   "metadata": {},
   "outputs": [
    {
     "name": "stderr",
     "output_type": "stream",
     "text": [
      "C:\\Users\\atlab\\anaconda3\\lib\\site-packages\\pandas\\core\\generic.py:5516: SettingWithCopyWarning: \n",
      "A value is trying to be set on a copy of a slice from a DataFrame.\n",
      "Try using .loc[row_indexer,col_indexer] = value instead\n",
      "\n",
      "See the caveats in the documentation: https://pandas.pydata.org/pandas-docs/stable/user_guide/indexing.html#returning-a-view-versus-a-copy\n",
      "  self[name] = value\n"
     ]
    }
   ],
   "source": [
    "cars.Name = cars.Name.str.strip()"
   ]
  },
  {
   "cell_type": "code",
   "execution_count": 28,
   "id": "31d3e975-757a-41d4-b698-4da70c86b7e6",
   "metadata": {},
   "outputs": [
    {
     "data": {
      "text/plain": [
       "20490.0"
      ]
     },
     "execution_count": 28,
     "metadata": {},
     "output_type": "execute_result"
    }
   ],
   "source": [
    "min_value = cars['PriceinGermany'].min()\n",
    "min_value"
   ]
  },
  {
   "cell_type": "code",
   "execution_count": 29,
   "id": "6b9851af-8efd-4c29-9669-179104f31a0c",
   "metadata": {},
   "outputs": [
    {
     "data": {
      "text/plain": [
       "215000.0"
      ]
     },
     "execution_count": 29,
     "metadata": {},
     "output_type": "execute_result"
    }
   ],
   "source": [
    "max_value =cars['PriceinGermany'].max() \n",
    "max_value"
   ]
  },
  {
   "cell_type": "code",
   "execution_count": 30,
   "id": "3b5d505a-4202-4baf-808e-80cbe1d2debf",
   "metadata": {},
   "outputs": [
    {
     "data": {
      "text/plain": [
       "165.0"
      ]
     },
     "execution_count": 30,
     "metadata": {},
     "output_type": "execute_result"
    }
   ],
   "source": [
    "min_value = cars['Range'].min()\n",
    "min_value"
   ]
  },
  {
   "cell_type": "code",
   "execution_count": 31,
   "id": "8f2f2b1b-0f64-4978-bb40-b08bc81f3582",
   "metadata": {},
   "outputs": [
    {
     "data": {
      "text/plain": [
       "970.0"
      ]
     },
     "execution_count": 31,
     "metadata": {},
     "output_type": "execute_result"
    }
   ],
   "source": [
    "max_value =cars['Range'].max() \n",
    "max_value"
   ]
  },
  {
   "cell_type": "code",
   "execution_count": 32,
   "id": "30b5a0ff-a823-48f4-8b84-dc71a5c9df62",
   "metadata": {},
   "outputs": [],
   "source": [
    "cars_1 = cars.rename(columns = {\"Acceleration\": \"acceleration_in_sec\", \n",
    "                                \"Range\": \"range_km\", \n",
    "                                \"TopSpeed\": \"top_speed_km_h\",\n",
    "                                \"Efficiency\": \"efficiency_Wh_km\",\n",
    "                                \"FastChargeSpeed\": \"fast_charge_speed_km_h\",\n",
    "                                \"PriceinGermany\": \"price_in_euros\",\n",
    "                                \"BatteryCapacity\": \"batter_capacity_kWh\"\n",
    "                               })"
   ]
  },
  {
   "cell_type": "code",
   "execution_count": 33,
   "id": "6d135767-093f-4ce7-afe1-5d53160e0742",
   "metadata": {},
   "outputs": [
    {
     "data": {
      "text/html": [
       "<div>\n",
       "<style scoped>\n",
       "    .dataframe tbody tr th:only-of-type {\n",
       "        vertical-align: middle;\n",
       "    }\n",
       "\n",
       "    .dataframe tbody tr th {\n",
       "        vertical-align: top;\n",
       "    }\n",
       "\n",
       "    .dataframe thead th {\n",
       "        text-align: right;\n",
       "    }\n",
       "</style>\n",
       "<table border=\"1\" class=\"dataframe\">\n",
       "  <thead>\n",
       "    <tr style=\"text-align: right;\">\n",
       "      <th></th>\n",
       "      <th>Name</th>\n",
       "      <th>acceleration_in_sec</th>\n",
       "      <th>top_speed_km_h</th>\n",
       "      <th>range_km</th>\n",
       "      <th>efficiency_Wh_km</th>\n",
       "      <th>fast_charge_speed_km_h</th>\n",
       "      <th>Drive</th>\n",
       "      <th>NumberofSeats</th>\n",
       "      <th>price_in_euros</th>\n",
       "      <th>batter_capacity_kWh</th>\n",
       "      <th>BrandName</th>\n",
       "    </tr>\n",
       "  </thead>\n",
       "  <tbody>\n",
       "    <tr>\n",
       "      <th>0</th>\n",
       "      <td>Opel Ampera-e</td>\n",
       "      <td>7.3</td>\n",
       "      <td>150.0</td>\n",
       "      <td>335.0</td>\n",
       "      <td>173.0</td>\n",
       "      <td>210.0</td>\n",
       "      <td>Front Wheel Drive</td>\n",
       "      <td>5</td>\n",
       "      <td>42990.0</td>\n",
       "      <td>58.0</td>\n",
       "      <td>Opel</td>\n",
       "    </tr>\n",
       "    <tr>\n",
       "      <th>2</th>\n",
       "      <td>Nissan Leaf</td>\n",
       "      <td>7.9</td>\n",
       "      <td>144.0</td>\n",
       "      <td>220.0</td>\n",
       "      <td>164.0</td>\n",
       "      <td>230.0</td>\n",
       "      <td>Front Wheel Drive</td>\n",
       "      <td>5</td>\n",
       "      <td>29990.0</td>\n",
       "      <td>36.0</td>\n",
       "      <td>Nissan</td>\n",
       "    </tr>\n",
       "    <tr>\n",
       "      <th>4</th>\n",
       "      <td>Porsche Taycan Turbo S</td>\n",
       "      <td>2.8</td>\n",
       "      <td>260.0</td>\n",
       "      <td>390.0</td>\n",
       "      <td>215.0</td>\n",
       "      <td>860.0</td>\n",
       "      <td>All Wheel Drive</td>\n",
       "      <td>4</td>\n",
       "      <td>186336.0</td>\n",
       "      <td>83.7</td>\n",
       "      <td>Porsche</td>\n",
       "    </tr>\n",
       "    <tr>\n",
       "      <th>5</th>\n",
       "      <td>Nissan e-NV200 Evalia</td>\n",
       "      <td>14.0</td>\n",
       "      <td>123.0</td>\n",
       "      <td>165.0</td>\n",
       "      <td>218.0</td>\n",
       "      <td>170.0</td>\n",
       "      <td>Front Wheel Drive</td>\n",
       "      <td>7</td>\n",
       "      <td>43433.0</td>\n",
       "      <td>36.0</td>\n",
       "      <td>Nissan</td>\n",
       "    </tr>\n",
       "    <tr>\n",
       "      <th>6</th>\n",
       "      <td>Volkswagen ID.3 Pure Performance</td>\n",
       "      <td>8.9</td>\n",
       "      <td>160.0</td>\n",
       "      <td>275.0</td>\n",
       "      <td>164.0</td>\n",
       "      <td>260.0</td>\n",
       "      <td>Rear Wheel Drive</td>\n",
       "      <td>5</td>\n",
       "      <td>31960.0</td>\n",
       "      <td>45.0</td>\n",
       "      <td>Volkswagen</td>\n",
       "    </tr>\n",
       "    <tr>\n",
       "      <th>...</th>\n",
       "      <td>...</td>\n",
       "      <td>...</td>\n",
       "      <td>...</td>\n",
       "      <td>...</td>\n",
       "      <td>...</td>\n",
       "      <td>...</td>\n",
       "      <td>...</td>\n",
       "      <td>...</td>\n",
       "      <td>...</td>\n",
       "      <td>...</td>\n",
       "      <td>...</td>\n",
       "    </tr>\n",
       "    <tr>\n",
       "      <th>174</th>\n",
       "      <td>Peugeot e-Rifter Long 50 kWh</td>\n",
       "      <td>11.7</td>\n",
       "      <td>135.0</td>\n",
       "      <td>195.0</td>\n",
       "      <td>231.0</td>\n",
       "      <td>260.0</td>\n",
       "      <td>Front Wheel Drive</td>\n",
       "      <td>7</td>\n",
       "      <td>42590.0</td>\n",
       "      <td>45.0</td>\n",
       "      <td>Peugeot</td>\n",
       "    </tr>\n",
       "    <tr>\n",
       "      <th>175</th>\n",
       "      <td>MG Marvel R</td>\n",
       "      <td>7.9</td>\n",
       "      <td>200.0</td>\n",
       "      <td>340.0</td>\n",
       "      <td>191.0</td>\n",
       "      <td>390.0</td>\n",
       "      <td>Rear Wheel Drive</td>\n",
       "      <td>5</td>\n",
       "      <td>40000.0</td>\n",
       "      <td>65.0</td>\n",
       "      <td>MG</td>\n",
       "    </tr>\n",
       "    <tr>\n",
       "      <th>176</th>\n",
       "      <td>Tesla Model 3 Long Range Dual Motor</td>\n",
       "      <td>4.4</td>\n",
       "      <td>233.0</td>\n",
       "      <td>490.0</td>\n",
       "      <td>155.0</td>\n",
       "      <td>820.0</td>\n",
       "      <td>All Wheel Drive</td>\n",
       "      <td>5</td>\n",
       "      <td>53560.0</td>\n",
       "      <td>76.0</td>\n",
       "      <td>Tesla</td>\n",
       "    </tr>\n",
       "    <tr>\n",
       "      <th>178</th>\n",
       "      <td>Audi Q4 e-tron 45 quattro</td>\n",
       "      <td>6.9</td>\n",
       "      <td>180.0</td>\n",
       "      <td>385.0</td>\n",
       "      <td>199.0</td>\n",
       "      <td>470.0</td>\n",
       "      <td>All Wheel Drive</td>\n",
       "      <td>5</td>\n",
       "      <td>50900.0</td>\n",
       "      <td>76.6</td>\n",
       "      <td>Audi</td>\n",
       "    </tr>\n",
       "    <tr>\n",
       "      <th>179</th>\n",
       "      <td>Audi Q4 Sportback e-tron 40</td>\n",
       "      <td>8.5</td>\n",
       "      <td>160.0</td>\n",
       "      <td>425.0</td>\n",
       "      <td>180.0</td>\n",
       "      <td>520.0</td>\n",
       "      <td>Rear Wheel Drive</td>\n",
       "      <td>5</td>\n",
       "      <td>49500.0</td>\n",
       "      <td>76.6</td>\n",
       "      <td>Audi</td>\n",
       "    </tr>\n",
       "  </tbody>\n",
       "</table>\n",
       "<p>163 rows × 11 columns</p>\n",
       "</div>"
      ],
      "text/plain": [
       "                                    Name  acceleration_in_sec  top_speed_km_h  \\\n",
       "0                          Opel Ampera-e                  7.3           150.0   \n",
       "2                            Nissan Leaf                  7.9           144.0   \n",
       "4                 Porsche Taycan Turbo S                  2.8           260.0   \n",
       "5                  Nissan e-NV200 Evalia                 14.0           123.0   \n",
       "6       Volkswagen ID.3 Pure Performance                  8.9           160.0   \n",
       "..                                   ...                  ...             ...   \n",
       "174         Peugeot e-Rifter Long 50 kWh                 11.7           135.0   \n",
       "175                          MG Marvel R                  7.9           200.0   \n",
       "176  Tesla Model 3 Long Range Dual Motor                  4.4           233.0   \n",
       "178            Audi Q4 e-tron 45 quattro                  6.9           180.0   \n",
       "179          Audi Q4 Sportback e-tron 40                  8.5           160.0   \n",
       "\n",
       "     range_km  efficiency_Wh_km  fast_charge_speed_km_h              Drive  \\\n",
       "0       335.0             173.0                   210.0  Front Wheel Drive   \n",
       "2       220.0             164.0                   230.0  Front Wheel Drive   \n",
       "4       390.0             215.0                   860.0    All Wheel Drive   \n",
       "5       165.0             218.0                   170.0  Front Wheel Drive   \n",
       "6       275.0             164.0                   260.0   Rear Wheel Drive   \n",
       "..        ...               ...                     ...                ...   \n",
       "174     195.0             231.0                   260.0  Front Wheel Drive   \n",
       "175     340.0             191.0                   390.0   Rear Wheel Drive   \n",
       "176     490.0             155.0                   820.0    All Wheel Drive   \n",
       "178     385.0             199.0                   470.0    All Wheel Drive   \n",
       "179     425.0             180.0                   520.0   Rear Wheel Drive   \n",
       "\n",
       "     NumberofSeats  price_in_euros  batter_capacity_kWh   BrandName  \n",
       "0                5         42990.0                 58.0        Opel  \n",
       "2                5         29990.0                 36.0      Nissan  \n",
       "4                4        186336.0                 83.7     Porsche  \n",
       "5                7         43433.0                 36.0      Nissan  \n",
       "6                5         31960.0                 45.0  Volkswagen  \n",
       "..             ...             ...                  ...         ...  \n",
       "174              7         42590.0                 45.0     Peugeot  \n",
       "175              5         40000.0                 65.0          MG  \n",
       "176              5         53560.0                 76.0       Tesla  \n",
       "178              5         50900.0                 76.6        Audi  \n",
       "179              5         49500.0                 76.6        Audi  \n",
       "\n",
       "[163 rows x 11 columns]"
      ]
     },
     "execution_count": 33,
     "metadata": {},
     "output_type": "execute_result"
    }
   ],
   "source": [
    "cars_1"
   ]
  },
  {
   "cell_type": "code",
   "execution_count": 34,
   "id": "e2481efe-37d8-43d8-bc1a-06f121a7adf6",
   "metadata": {},
   "outputs": [],
   "source": [
    "X = cars_1.drop(columns=['price_in_euros'])\n",
    "y = cars_1['price_in_euros']\n",
    "\n",
    "X_train, X_test, y_train, y_test = train_test_split(X, y, train_size=.8, random_state=8)\n",
    "X_train.head()"
   ]
  },
  {
   "cell_type": "code",
   "execution_count": 63,
   "id": "0c813a39-9da8-44c7-9ad2-a7c1df1f6e45",
   "metadata": {},
   "outputs": [
    {
     "name": "stdout",
     "output_type": "stream",
     "text": [
      "(130, 10) (33, 10) (130,) (33,)\n"
     ]
    }
   ],
   "source": [
    "print(X_train.shape, X_test.shape, y_train.shape, y_test.shape)"
   ]
  },
  {
   "cell_type": "code",
   "execution_count": 35,
   "id": "b95986fa-f1f6-4995-9b89-65d906826893",
   "metadata": {},
   "outputs": [
    {
     "data": {
      "image/png": "[encoded data removed]",
      "text/plain": [
       "<Figure size 864x576 with 1 Axes>"
      ]
     },
     "metadata": {
      "needs_background": "light"
     },
     "output_type": "display_data"
    }
   ],
   "source": [
    "#1st iteration: dummy model and linear regression + regression errors\n",
    "\n",
    "plt.subplots(figsize=(12, 8))\n",
    "sns.scatterplot(x=X_train['acceleration_in_sec'], y=y_train)\n",
    "plt.show()"
   ]
  },
  {
   "cell_type": "code",
   "execution_count": 36,
   "id": "e033a5f3-33cc-44c2-bf85-3fab178a63cb",
   "metadata": {},
   "outputs": [
    {
     "data": {
      "text/html": [
       "<div>\n",
       "<style scoped>\n",
       "    .dataframe tbody tr th:only-of-type {\n",
       "        vertical-align: middle;\n",
       "    }\n",
       "\n",
       "    .dataframe tbody tr th {\n",
       "        vertical-align: top;\n",
       "    }\n",
       "\n",
       "    .dataframe thead th {\n",
       "        text-align: right;\n",
       "    }\n",
       "</style>\n",
       "<table border=\"1\" class=\"dataframe\">\n",
       "  <thead>\n",
       "    <tr style=\"text-align: right;\">\n",
       "      <th></th>\n",
       "      <th>Name</th>\n",
       "      <th>acceleration_in_sec</th>\n",
       "      <th>top_speed_km_h</th>\n",
       "      <th>range_km</th>\n",
       "      <th>efficiency_Wh_km</th>\n",
       "      <th>fast_charge_speed_km_h</th>\n",
       "      <th>Drive</th>\n",
       "      <th>NumberofSeats</th>\n",
       "      <th>batter_capacity_kWh</th>\n",
       "      <th>BrandName</th>\n",
       "      <th>preds</th>\n",
       "      <th>price</th>\n",
       "      <th>error</th>\n",
       "    </tr>\n",
       "  </thead>\n",
       "  <tbody>\n",
       "    <tr>\n",
       "      <th>88</th>\n",
       "      <td>Volkswagen ID.4 Pro Performance</td>\n",
       "      <td>8.5</td>\n",
       "      <td>160.0</td>\n",
       "      <td>410.0</td>\n",
       "      <td>188.0</td>\n",
       "      <td>500.0</td>\n",
       "      <td>Rear Wheel Drive</td>\n",
       "      <td>5</td>\n",
       "      <td>77.0</td>\n",
       "      <td>Volkswagen</td>\n",
       "      <td>68000.0</td>\n",
       "      <td>44450.0</td>\n",
       "      <td>23550.0</td>\n",
       "    </tr>\n",
       "    <tr>\n",
       "      <th>164</th>\n",
       "      <td>Toyota PROACE Verso L 50 kWh</td>\n",
       "      <td>12.1</td>\n",
       "      <td>130.0</td>\n",
       "      <td>180.0</td>\n",
       "      <td>250.0</td>\n",
       "      <td>240.0</td>\n",
       "      <td>Front Wheel Drive</td>\n",
       "      <td>7</td>\n",
       "      <td>45.0</td>\n",
       "      <td>Toyota</td>\n",
       "      <td>96800.0</td>\n",
       "      <td>59385.0</td>\n",
       "      <td>37415.0</td>\n",
       "    </tr>\n",
       "    <tr>\n",
       "      <th>0</th>\n",
       "      <td>Opel Ampera-e</td>\n",
       "      <td>7.3</td>\n",
       "      <td>150.0</td>\n",
       "      <td>335.0</td>\n",
       "      <td>173.0</td>\n",
       "      <td>210.0</td>\n",
       "      <td>Front Wheel Drive</td>\n",
       "      <td>5</td>\n",
       "      <td>58.0</td>\n",
       "      <td>Opel</td>\n",
       "      <td>58400.0</td>\n",
       "      <td>42990.0</td>\n",
       "      <td>15410.0</td>\n",
       "    </tr>\n",
       "    <tr>\n",
       "      <th>112</th>\n",
       "      <td>Peugeot e-Traveller Compact 50 kWh</td>\n",
       "      <td>12.1</td>\n",
       "      <td>130.0</td>\n",
       "      <td>185.0</td>\n",
       "      <td>243.0</td>\n",
       "      <td>250.0</td>\n",
       "      <td>Front Wheel Drive</td>\n",
       "      <td>7</td>\n",
       "      <td>45.0</td>\n",
       "      <td>Peugeot</td>\n",
       "      <td>96800.0</td>\n",
       "      <td>50880.0</td>\n",
       "      <td>45920.0</td>\n",
       "    </tr>\n",
       "    <tr>\n",
       "      <th>33</th>\n",
       "      <td>Volkswagen ID.3 Pro S</td>\n",
       "      <td>7.9</td>\n",
       "      <td>160.0</td>\n",
       "      <td>450.0</td>\n",
       "      <td>171.0</td>\n",
       "      <td>550.0</td>\n",
       "      <td>Rear Wheel Drive</td>\n",
       "      <td>4</td>\n",
       "      <td>77.0</td>\n",
       "      <td>Volkswagen</td>\n",
       "      <td>63200.0</td>\n",
       "      <td>41995.0</td>\n",
       "      <td>21205.0</td>\n",
       "    </tr>\n",
       "    <tr>\n",
       "      <th>...</th>\n",
       "      <td>...</td>\n",
       "      <td>...</td>\n",
       "      <td>...</td>\n",
       "      <td>...</td>\n",
       "      <td>...</td>\n",
       "      <td>...</td>\n",
       "      <td>...</td>\n",
       "      <td>...</td>\n",
       "      <td>...</td>\n",
       "      <td>...</td>\n",
       "      <td>...</td>\n",
       "      <td>...</td>\n",
       "      <td>...</td>\n",
       "    </tr>\n",
       "    <tr>\n",
       "      <th>96</th>\n",
       "      <td>Tesla Model 3 Performance</td>\n",
       "      <td>3.3</td>\n",
       "      <td>261.0</td>\n",
       "      <td>470.0</td>\n",
       "      <td>162.0</td>\n",
       "      <td>790.0</td>\n",
       "      <td>All Wheel Drive</td>\n",
       "      <td>5</td>\n",
       "      <td>76.0</td>\n",
       "      <td>Tesla</td>\n",
       "      <td>26400.0</td>\n",
       "      <td>58560.0</td>\n",
       "      <td>-32160.0</td>\n",
       "    </tr>\n",
       "    <tr>\n",
       "      <th>152</th>\n",
       "      <td>Polestar 2 Standard Range Single Motor</td>\n",
       "      <td>7.4</td>\n",
       "      <td>160.0</td>\n",
       "      <td>350.0</td>\n",
       "      <td>174.0</td>\n",
       "      <td>450.0</td>\n",
       "      <td>Front Wheel Drive</td>\n",
       "      <td>5</td>\n",
       "      <td>61.0</td>\n",
       "      <td>Polestar</td>\n",
       "      <td>59200.0</td>\n",
       "      <td>46500.0</td>\n",
       "      <td>12700.0</td>\n",
       "    </tr>\n",
       "    <tr>\n",
       "      <th>149</th>\n",
       "      <td>Mercedes EQS 450+</td>\n",
       "      <td>6.2</td>\n",
       "      <td>210.0</td>\n",
       "      <td>640.0</td>\n",
       "      <td>168.0</td>\n",
       "      <td>840.0</td>\n",
       "      <td>Rear Wheel Drive</td>\n",
       "      <td>5</td>\n",
       "      <td>107.8</td>\n",
       "      <td>Mercedes</td>\n",
       "      <td>49600.0</td>\n",
       "      <td>106374.0</td>\n",
       "      <td>-56774.0</td>\n",
       "    </tr>\n",
       "    <tr>\n",
       "      <th>118</th>\n",
       "      <td>Audi e-tron Sportback 55 quattro</td>\n",
       "      <td>5.7</td>\n",
       "      <td>200.0</td>\n",
       "      <td>375.0</td>\n",
       "      <td>231.0</td>\n",
       "      <td>600.0</td>\n",
       "      <td>All Wheel Drive</td>\n",
       "      <td>5</td>\n",
       "      <td>86.5</td>\n",
       "      <td>Audi</td>\n",
       "      <td>45600.0</td>\n",
       "      <td>83750.0</td>\n",
       "      <td>-38150.0</td>\n",
       "    </tr>\n",
       "    <tr>\n",
       "      <th>97</th>\n",
       "      <td>Fiat 500e Hatchback 24 kWh</td>\n",
       "      <td>9.5</td>\n",
       "      <td>135.0</td>\n",
       "      <td>165.0</td>\n",
       "      <td>144.0</td>\n",
       "      <td>260.0</td>\n",
       "      <td>Front Wheel Drive</td>\n",
       "      <td>4</td>\n",
       "      <td>23.8</td>\n",
       "      <td>Fiat</td>\n",
       "      <td>76000.0</td>\n",
       "      <td>23560.0</td>\n",
       "      <td>52440.0</td>\n",
       "    </tr>\n",
       "  </tbody>\n",
       "</table>\n",
       "<p>130 rows × 13 columns</p>\n",
       "</div>"
      ],
      "text/plain": [
       "                                       Name  acceleration_in_sec  \\\n",
       "88          Volkswagen ID.4 Pro Performance                  8.5   \n",
       "164            Toyota PROACE Verso L 50 kWh                 12.1   \n",
       "0                             Opel Ampera-e                  7.3   \n",
       "112      Peugeot e-Traveller Compact 50 kWh                 12.1   \n",
       "33                    Volkswagen ID.3 Pro S                  7.9   \n",
       "..                                      ...                  ...   \n",
       "96                Tesla Model 3 Performance                  3.3   \n",
       "152  Polestar 2 Standard Range Single Motor                  7.4   \n",
       "149                       Mercedes EQS 450+                  6.2   \n",
       "118        Audi e-tron Sportback 55 quattro                  5.7   \n",
       "97               Fiat 500e Hatchback 24 kWh                  9.5   \n",
       "\n",
       "     top_speed_km_h  range_km  efficiency_Wh_km  fast_charge_speed_km_h  \\\n",
       "88            160.0     410.0             188.0                   500.0   \n",
       "164           130.0     180.0             250.0                   240.0   \n",
       "0             150.0     335.0             173.0                   210.0   \n",
       "112           130.0     185.0             243.0                   250.0   \n",
       "33            160.0     450.0             171.0                   550.0   \n",
       "..              ...       ...               ...                     ...   \n",
       "96            261.0     470.0             162.0                   790.0   \n",
       "152           160.0     350.0             174.0                   450.0   \n",
       "149           210.0     640.0             168.0                   840.0   \n",
       "118           200.0     375.0             231.0                   600.0   \n",
       "97            135.0     165.0             144.0                   260.0   \n",
       "\n",
       "                 Drive  NumberofSeats  batter_capacity_kWh   BrandName  \\\n",
       "88    Rear Wheel Drive              5                 77.0  Volkswagen   \n",
       "164  Front Wheel Drive              7                 45.0      Toyota   \n",
       "0    Front Wheel Drive              5                 58.0        Opel   \n",
       "112  Front Wheel Drive              7                 45.0     Peugeot   \n",
       "33    Rear Wheel Drive              4                 77.0  Volkswagen   \n",
       "..                 ...            ...                  ...         ...   \n",
       "96     All Wheel Drive              5                 76.0       Tesla   \n",
       "152  Front Wheel Drive              5                 61.0    Polestar   \n",
       "149   Rear Wheel Drive              5                107.8    Mercedes   \n",
       "118    All Wheel Drive              5                 86.5        Audi   \n",
       "97   Front Wheel Drive              4                 23.8        Fiat   \n",
       "\n",
       "       preds     price    error  \n",
       "88   68000.0   44450.0  23550.0  \n",
       "164  96800.0   59385.0  37415.0  \n",
       "0    58400.0   42990.0  15410.0  \n",
       "112  96800.0   50880.0  45920.0  \n",
       "33   63200.0   41995.0  21205.0  \n",
       "..       ...       ...      ...  \n",
       "96   26400.0   58560.0 -32160.0  \n",
       "152  59200.0   46500.0  12700.0  \n",
       "149  49600.0  106374.0 -56774.0  \n",
       "118  45600.0   83750.0 -38150.0  \n",
       "97   76000.0   23560.0  52440.0  \n",
       "\n",
       "[130 rows x 13 columns]"
      ]
     },
     "execution_count": 36,
     "metadata": {},
     "output_type": "execute_result"
    }
   ],
   "source": [
    "def my_dummy_model(acceleration_in_sec): \n",
    "    return acceleration_in_sec * 8000\n",
    "\n",
    "dummy_model_res = (\n",
    "X_train\n",
    "    .assign(\n",
    "        preds = lambda x: my_dummy_model(x['acceleration_in_sec']), \n",
    "        price = y_train\n",
    "        )\n",
    "    .assign(\n",
    "        error = lambda x:  x['preds'] - x['price']\n",
    "    )\n",
    ")\n",
    "dummy_model_res"
   ]
  },
  {
   "cell_type": "code",
   "execution_count": 37,
   "id": "35b022f1-9370-45b8-b9b6-411a94d88f6b",
   "metadata": {},
   "outputs": [
    {
     "data": {
      "image/png": "[encoded data removed]",
      "text/plain": [
       "<Figure size 576x576 with 1 Axes>"
      ]
     },
     "metadata": {
      "needs_background": "light"
     },
     "output_type": "display_data"
    }
   ],
   "source": [
    "def plot_predictions(y_true, y_pred): \n",
    "    max_preds = min([max(y_pred.tolist()), max(y_true.tolist())])\n",
    "    min_preds = min([min(y_pred.tolist()), min(y_true.tolist())])\n",
    "    # plot\n",
    "    plt.figure(figsize=(8,8))\n",
    "    sns.scatterplot(x=y_pred, y=y_true)\n",
    "    sns.lineplot(x=[min_preds,max_preds], y=[min_preds, max_preds], color='red')\n",
    "    plt.ylabel('Reference')\n",
    "    plt.xlabel('Predictions')\n",
    "    plt.show()\n",
    "\n",
    "plot_predictions(dummy_model_res['price'], dummy_model_res['preds'])"
   ]
  },
  {
   "cell_type": "code",
   "execution_count": 38,
   "id": "9d70023b-7f6a-4cf0-b742-bdb484cb0768",
   "metadata": {},
   "outputs": [
    {
     "data": {
      "text/plain": [
       "array([[ 8.5],\n",
       "       [12.1],\n",
       "       [ 7.3],\n",
       "       [12.1],\n",
       "       [ 7.9],\n",
       "       [ 4.5],\n",
       "       [ 4.1],\n",
       "       [ 7.5],\n",
       "       [ 3.3],\n",
       "       [ 3.7],\n",
       "       [ 4.3],\n",
       "       [ 3.2],\n",
       "       [ 8.9],\n",
       "       [ 3.9],\n",
       "       [ 9.8],\n",
       "       [ 7.3],\n",
       "       [ 7.3],\n",
       "       [ 4.9],\n",
       "       [ 6.8],\n",
       "       [ 2.6],\n",
       "       [ 5.2],\n",
       "       [ 9.9],\n",
       "       [12.1],\n",
       "       [ 8.3],\n",
       "       [ 5.1],\n",
       "       [ 9.7],\n",
       "       [ 9.7],\n",
       "       [13.1],\n",
       "       [11.7],\n",
       "       [ 4. ],\n",
       "       [ 9. ],\n",
       "       [ 5.2],\n",
       "       [ 6.1],\n",
       "       [ 8.5],\n",
       "       [ 6.2],\n",
       "       [ 4.2],\n",
       "       [ 4.7],\n",
       "       [ 9. ],\n",
       "       [ 3.9],\n",
       "       [ 7.7],\n",
       "       [ 6.8],\n",
       "       [ 6.6],\n",
       "       [13.1],\n",
       "       [11.3],\n",
       "       [ 2.9],\n",
       "       [ 3.4],\n",
       "       [ 4.5],\n",
       "       [ 3.2],\n",
       "       [ 2.1],\n",
       "       [ 7.8],\n",
       "       [ 8. ],\n",
       "       [ 5.6],\n",
       "       [ 8.9],\n",
       "       [12.1],\n",
       "       [ 7.5],\n",
       "       [ 2.1],\n",
       "       [ 5.7],\n",
       "       [ 8.5],\n",
       "       [ 7.3],\n",
       "       [ 6.3],\n",
       "       [ 4. ],\n",
       "       [ 6.1],\n",
       "       [ 7.5],\n",
       "       [ 8.3],\n",
       "       [ 5.6],\n",
       "       [ 4.4],\n",
       "       [ 5.5],\n",
       "       [ 9.9],\n",
       "       [ 8.5],\n",
       "       [ 7. ],\n",
       "       [12.1],\n",
       "       [ 7.5],\n",
       "       [ 9. ],\n",
       "       [ 7.9],\n",
       "       [11.4],\n",
       "       [ 2.8],\n",
       "       [ 3.3],\n",
       "       [ 7.3],\n",
       "       [ 9. ],\n",
       "       [ 6.9],\n",
       "       [ 5.8],\n",
       "       [12.1],\n",
       "       [ 9.6],\n",
       "       [ 8.5],\n",
       "       [ 5.9],\n",
       "       [ 5.1],\n",
       "       [ 7. ],\n",
       "       [ 9. ],\n",
       "       [ 9.5],\n",
       "       [ 5.1],\n",
       "       [ 6.2],\n",
       "       [ 7.4],\n",
       "       [12.1],\n",
       "       [13.3],\n",
       "       [10. ],\n",
       "       [ 5.4],\n",
       "       [15. ],\n",
       "       [ 4.9],\n",
       "       [10.9],\n",
       "       [ 6.2],\n",
       "       [ 4.8],\n",
       "       [ 6.9],\n",
       "       [ 6.2],\n",
       "       [ 7.6],\n",
       "       [ 5.7],\n",
       "       [ 3. ],\n",
       "       [ 8.7],\n",
       "       [ 6. ],\n",
       "       [13.3],\n",
       "       [ 9.7],\n",
       "       [ 9. ],\n",
       "       [ 8.5],\n",
       "       [13.3],\n",
       "       [13.3],\n",
       "       [ 6.5],\n",
       "       [ 8.6],\n",
       "       [ 7.4],\n",
       "       [11.4],\n",
       "       [ 5.4],\n",
       "       [ 4.1],\n",
       "       [ 8.7],\n",
       "       [ 9. ],\n",
       "       [ 3.2],\n",
       "       [ 6.8],\n",
       "       [ 5.7],\n",
       "       [ 3.3],\n",
       "       [ 7.4],\n",
       "       [ 6.2],\n",
       "       [ 5.7],\n",
       "       [ 9.5]])"
      ]
     },
     "execution_count": 38,
     "metadata": {},
     "output_type": "execute_result"
    }
   ],
   "source": [
    "# Creating our first Linear Model\n",
    "\n",
    "np.array(X_train['acceleration_in_sec']).reshape(-1, 1)"
   ]
  },
  {
   "cell_type": "code",
   "execution_count": 39,
   "id": "d035798c-069b-4c13-920b-e4e3e1be0b4b",
   "metadata": {},
   "outputs": [
    {
     "data": {
      "image/png": "[encoded data removed]",
      "text/plain": [
       "<Figure size 576x576 with 1 Axes>"
      ]
     },
     "metadata": {
      "needs_background": "light"
     },
     "output_type": "display_data"
    }
   ],
   "source": [
    "lm = LinearRegression()\n",
    "lm.fit(np.array(X_train['acceleration_in_sec']).reshape(-1, 1), y_train)\n",
    "plot_predictions(y_train, lm.predict(np.array(X_train['acceleration_in_sec']).reshape(-1, 1)))"
   ]
  },
  {
   "cell_type": "code",
   "execution_count": 40,
   "id": "cdaaef81-b95a-4998-a6e7-29c8e2b7a89a",
   "metadata": {},
   "outputs": [
    {
     "name": "stdout",
     "output_type": "stream",
     "text": [
      "[-7193.25791437] 115121.98448024612\n"
     ]
    }
   ],
   "source": [
    "print(\n",
    "    lm.coef_, \n",
    "    lm.intercept_\n",
    "    )"
   ]
  },
  {
   "cell_type": "markdown",
   "id": "7179dc56-a762-4bfa-bbde-9f1dcaa7629f",
   "metadata": {},
   "source": [
    "    price=115121.98448024612+acceleration_in_sec∗-7193.25791437"
   ]
  },
  {
   "cell_type": "code",
   "execution_count": 41,
   "id": "564e8919-39bb-4cdf-8716-82df670f8578",
   "metadata": {},
   "outputs": [
    {
     "data": {
      "text/html": [
       "<div>\n",
       "<style scoped>\n",
       "    .dataframe tbody tr th:only-of-type {\n",
       "        vertical-align: middle;\n",
       "    }\n",
       "\n",
       "    .dataframe tbody tr th {\n",
       "        vertical-align: top;\n",
       "    }\n",
       "\n",
       "    .dataframe thead th {\n",
       "        text-align: right;\n",
       "    }\n",
       "</style>\n",
       "<table border=\"1\" class=\"dataframe\">\n",
       "  <thead>\n",
       "    <tr style=\"text-align: right;\">\n",
       "      <th></th>\n",
       "      <th>predictions</th>\n",
       "      <th>true_values</th>\n",
       "    </tr>\n",
       "  </thead>\n",
       "  <tbody>\n",
       "    <tr>\n",
       "      <th>163</th>\n",
       "      <td>28083.563716</td>\n",
       "      <td>58530.0</td>\n",
       "    </tr>\n",
       "    <tr>\n",
       "      <th>81</th>\n",
       "      <td>61172.550122</td>\n",
       "      <td>45000.0</td>\n",
       "    </tr>\n",
       "    <tr>\n",
       "      <th>173</th>\n",
       "      <td>30960.866882</td>\n",
       "      <td>37590.0</td>\n",
       "    </tr>\n",
       "    <tr>\n",
       "      <th>31</th>\n",
       "      <td>56137.269582</td>\n",
       "      <td>31990.0</td>\n",
       "    </tr>\n",
       "    <tr>\n",
       "      <th>20</th>\n",
       "      <td>56856.595374</td>\n",
       "      <td>30450.0</td>\n",
       "    </tr>\n",
       "  </tbody>\n",
       "</table>\n",
       "</div>"
      ],
      "text/plain": [
       "      predictions  true_values\n",
       "163  28083.563716      58530.0\n",
       "81   61172.550122      45000.0\n",
       "173  30960.866882      37590.0\n",
       "31   56137.269582      31990.0\n",
       "20   56856.595374      30450.0"
      ]
     },
     "execution_count": 41,
     "metadata": {},
     "output_type": "execute_result"
    }
   ],
   "source": [
    "# Results on test set\n",
    "\n",
    "results = pd.DataFrame({\n",
    "    'predictions':lm.predict(np.array(X_test['acceleration_in_sec']).reshape(-1, 1)), \n",
    "    'true_values':y_test\n",
    "})\n",
    "results.head() "
   ]
  },
  {
   "cell_type": "code",
   "execution_count": 42,
   "id": "ade34261-34c7-4d51-ab20-112a48f319b3",
   "metadata": {},
   "outputs": [
    {
     "data": {
      "image/png": "[encoded data removed]",
      "text/plain": [
       "<Figure size 576x576 with 1 Axes>"
      ]
     },
     "metadata": {
      "needs_background": "light"
     },
     "output_type": "display_data"
    }
   ],
   "source": [
    "plot_predictions(results.true_values, results.predictions)"
   ]
  },
  {
   "cell_type": "code",
   "execution_count": 43,
   "id": "e34c6d81-4c75-4987-92c4-feeff1625642",
   "metadata": {},
   "outputs": [
    {
     "data": {
      "text/plain": [
       "diff    6.567129e+08\n",
       "dtype: float64"
      ]
     },
     "execution_count": 43,
     "metadata": {},
     "output_type": "execute_result"
    }
   ],
   "source": [
    "mse_pre = (results\n",
    "               .assign(diff = lambda x: (x.true_values - x.predictions)**2)\n",
    "               .agg({'diff':{'sum','count'}}))\n",
    "mse = mse_pre.loc['sum'] / mse_pre.loc['count']\n",
    "mse"
   ]
  },
  {
   "cell_type": "code",
   "execution_count": 44,
   "id": "316ef1ab-bb78-437f-9b36-9c467ef9606a",
   "metadata": {},
   "outputs": [
    {
     "data": {
      "text/plain": [
       "656712864.0347239"
      ]
     },
     "execution_count": 44,
     "metadata": {},
     "output_type": "execute_result"
    }
   ],
   "source": [
    "# check our results with sklearn metrics\n",
    "mod_res = {}\n",
    "mod_res['1st_iter'] = {}\n",
    "from sklearn.metrics import mean_squared_error\n",
    "mod_res['1st_iter']['mse'] = mean_squared_error(results.true_values, results.predictions)\n",
    "mod_res['1st_iter']['mse']"
   ]
  },
  {
   "cell_type": "code",
   "execution_count": 45,
   "id": "89f13602-c5c7-4db6-a364-5bb2edacb5af",
   "metadata": {},
   "outputs": [
    {
     "data": {
      "text/plain": [
       "diff    25626.409503\n",
       "dtype: float64"
      ]
     },
     "execution_count": 45,
     "metadata": {},
     "output_type": "execute_result"
    }
   ],
   "source": [
    "rmse = (mse_pre.loc['sum'] / mse_pre.loc['count'])**0.5\n",
    "rmse"
   ]
  },
  {
   "cell_type": "code",
   "execution_count": 46,
   "id": "66276c2a-e9f8-4298-9b55-765c90b91487",
   "metadata": {},
   "outputs": [
    {
     "data": {
      "text/plain": [
       "diff    23086.479933\n",
       "dtype: float64"
      ]
     },
     "execution_count": 46,
     "metadata": {},
     "output_type": "execute_result"
    }
   ],
   "source": [
    "mae_pre = (results\n",
    "               .assign(diff = lambda x: abs(x.true_values - x.predictions))\n",
    "               .agg({'diff':{'sum','count'}}))\n",
    "mod_res['1st_iter']['mae'] = mae_pre.loc['sum'] / mae_pre.loc['count']\n",
    "mod_res['1st_iter']['mae']"
   ]
  },
  {
   "cell_type": "code",
   "execution_count": 47,
   "id": "7f3001c0-9cc1-4509-8e3c-ea642a093aff",
   "metadata": {},
   "outputs": [
    {
     "data": {
      "text/plain": [
       "23086.479932998398"
      ]
     },
     "execution_count": 47,
     "metadata": {},
     "output_type": "execute_result"
    }
   ],
   "source": [
    "# check our results with sklearn metrics\n",
    "from sklearn.metrics import mean_absolute_error\n",
    "mod_res['1st_iter']['mae'] = mean_absolute_error(results.true_values, results.predictions)\n",
    "mod_res['1st_iter']['mae']"
   ]
  },
  {
   "cell_type": "code",
   "execution_count": 48,
   "id": "e0fdc00d-3279-4896-bad7-8a32e2c9c9b0",
   "metadata": {},
   "outputs": [
    {
     "data": {
      "text/plain": [
       "{'1st_iter': {'mse': 656712864.0347239,\n",
       "  'mae': 23086.479932998398,\n",
       "  'mape': 0.4883522709774631}}"
      ]
     },
     "execution_count": 48,
     "metadata": {},
     "output_type": "execute_result"
    }
   ],
   "source": [
    "# Given that MAPE (mean absolute percentage error) doesn't exist in this version of sklearn, let's write a function:\n",
    "def mean_abs_perc_error(y_true, y_pred):\n",
    "    results = pd.DataFrame({\n",
    "        'predictions':y_pred,\n",
    "        'true_values':y_true\n",
    "    })\n",
    "    mape_pre = (results\n",
    "               .assign(diff = lambda x: abs(x.true_values - x.predictions)/x.true_values)\n",
    "               .agg({'diff':{'sum','count'}}))\n",
    "    mape = mape_pre.loc['sum'] / mape_pre.loc['count']\n",
    "    return mape.values[0]\n",
    "\n",
    "# from sklearn.metrics import mean_absolute_percentage_error\n",
    "mod_res['1st_iter']['mape'] = mean_abs_perc_error(results['true_values'], results['predictions'])\n",
    "mod_res['1st_iter']['mape']\n",
    "mod_res"
   ]
  },
  {
   "cell_type": "code",
   "execution_count": 49,
   "id": "f06efebe-a436-4133-afcb-fc2f28421c9e",
   "metadata": {},
   "outputs": [
    {
     "name": "stdout",
     "output_type": "stream",
     "text": [
      "\n",
      "        MSE: 656712864.0347239\n",
      "        RMSE: 25626.40950337608\n",
      "        MAE: 23086.479932998398\n",
      "        MAPE: 0.4883522709774631\n",
      "        \n",
      "89945.58177995082 24650.0\n"
     ]
    },
    {
     "data": {
      "image/png": "[encoded data removed]",
      "text/plain": [
       "<Figure size 576x576 with 1 Axes>"
      ]
     },
     "metadata": {
      "needs_background": "light"
     },
     "output_type": "display_data"
    }
   ],
   "source": [
    "def plot_predictions(y_true, y_pred): \n",
    "    print(\n",
    "        f\"\"\"\n",
    "        MSE: {mean_squared_error(y_true, y_pred)}\n",
    "        RMSE: {mean_squared_error(y_true, y_pred)**0.5}\n",
    "        MAE: {mean_absolute_error(y_true, y_pred)}\n",
    "        MAPE: {mean_abs_perc_error(y_true, y_pred)}\n",
    "        \"\"\"\n",
    "    )\n",
    "    max_preds = min([max(y_pred.tolist()), max(y_true.tolist())])\n",
    "    min_preds = max([min(y_pred.tolist()), min(y_true.tolist())])\n",
    "    print(max_preds, min_preds)\n",
    "    # plot\n",
    "    plt.figure(figsize=(8,8))\n",
    "    sns.scatterplot(x=y_pred, y=y_true)\n",
    "    sns.lineplot(x=[min_preds,max_preds], y=[min_preds, max_preds], color='red')\n",
    "    plt.ylabel('Reference')\n",
    "    plt.xlabel('Predictions')\n",
    "    plt.show()\n",
    "\n",
    "    return {\n",
    "        'mse': mean_squared_error(y_true, y_pred), \n",
    "        'rmse': mean_squared_error(y_true, y_pred)**0.5,\n",
    "        'mae': mean_absolute_error(y_true, y_pred),\n",
    "        'mape': mean_abs_perc_error(y_true, y_pred)\n",
    "    }\n",
    "\n",
    "mod_res['1st_iter'] = plot_predictions(y_test, results['predictions'])"
   ]
  },
  {
   "cell_type": "code",
   "execution_count": 50,
   "id": "93d12ac7-fd79-4415-82f2-6d83ec219340",
   "metadata": {},
   "outputs": [
    {
     "data": {
      "image/png": "[encoded data removed]",
      "text/plain": [
       "<Figure size 864x576 with 1 Axes>"
      ]
     },
     "metadata": {
      "needs_background": "light"
     },
     "output_type": "display_data"
    }
   ],
   "source": [
    "p_df = results.assign(error = lambda x: x['predictions'] - x['true_values'])\n",
    "\n",
    "plt.subplots(figsize=(12, 8))\n",
    "sns.histplot(p_df['error'])\n",
    "plt.vlines(x=0, ymin=0, ymax=600, color='red')\n",
    "plt.xlim(-5000, 5000)\n",
    "plt.show()"
   ]
  },
  {
   "cell_type": "code",
   "execution_count": 51,
   "id": "78cafe68-b6a6-4bc4-ac78-720b558d9bef",
   "metadata": {},
   "outputs": [
    {
     "data": {
      "image/png": "[encoded data removed]",
      "text/plain": [
       "<Figure size 864x576 with 1 Axes>"
      ]
     },
     "metadata": {
      "needs_background": "light"
     },
     "output_type": "display_data"
    }
   ],
   "source": [
    "# another way to visualise our errors\n",
    "p_df = p_df.sort_values(by='true_values')\n",
    "\n",
    "plt.subplots(figsize=(12, 8))\n",
    "sns.scatterplot(data=p_df, x='true_values', y='error')\n",
    "plt.hlines(y=0, xmin=0, xmax=max(p_df['true_values']), color='red')\n",
    "plt.show()"
   ]
  },
  {
   "cell_type": "code",
   "execution_count": 52,
   "id": "11a09b6f-6545-40a0-b48c-dda9c3c440cd",
   "metadata": {},
   "outputs": [
    {
     "data": {
      "text/html": [
       "<div>\n",
       "<style scoped>\n",
       "    .dataframe tbody tr th:only-of-type {\n",
       "        vertical-align: middle;\n",
       "    }\n",
       "\n",
       "    .dataframe tbody tr th {\n",
       "        vertical-align: top;\n",
       "    }\n",
       "\n",
       "    .dataframe thead th {\n",
       "        text-align: right;\n",
       "    }\n",
       "</style>\n",
       "<table border=\"1\" class=\"dataframe\">\n",
       "  <thead>\n",
       "    <tr style=\"text-align: right;\">\n",
       "      <th></th>\n",
       "      <th>Name</th>\n",
       "      <th>acceleration_in_sec</th>\n",
       "      <th>top_speed_km_h</th>\n",
       "      <th>range_km</th>\n",
       "      <th>efficiency_Wh_km</th>\n",
       "      <th>fast_charge_speed_km_h</th>\n",
       "      <th>Drive</th>\n",
       "      <th>NumberofSeats</th>\n",
       "      <th>batter_capacity_kWh</th>\n",
       "      <th>BrandName</th>\n",
       "    </tr>\n",
       "  </thead>\n",
       "  <tbody>\n",
       "    <tr>\n",
       "      <th>88</th>\n",
       "      <td>Volkswagen ID.4 Pro Performance</td>\n",
       "      <td>8.5</td>\n",
       "      <td>160.0</td>\n",
       "      <td>410.0</td>\n",
       "      <td>188.0</td>\n",
       "      <td>500.0</td>\n",
       "      <td>Rear Wheel Drive</td>\n",
       "      <td>5</td>\n",
       "      <td>77.0</td>\n",
       "      <td>Volkswagen</td>\n",
       "    </tr>\n",
       "    <tr>\n",
       "      <th>164</th>\n",
       "      <td>Toyota PROACE Verso L 50 kWh</td>\n",
       "      <td>12.1</td>\n",
       "      <td>130.0</td>\n",
       "      <td>180.0</td>\n",
       "      <td>250.0</td>\n",
       "      <td>240.0</td>\n",
       "      <td>Front Wheel Drive</td>\n",
       "      <td>7</td>\n",
       "      <td>45.0</td>\n",
       "      <td>Toyota</td>\n",
       "    </tr>\n",
       "    <tr>\n",
       "      <th>0</th>\n",
       "      <td>Opel Ampera-e</td>\n",
       "      <td>7.3</td>\n",
       "      <td>150.0</td>\n",
       "      <td>335.0</td>\n",
       "      <td>173.0</td>\n",
       "      <td>210.0</td>\n",
       "      <td>Front Wheel Drive</td>\n",
       "      <td>5</td>\n",
       "      <td>58.0</td>\n",
       "      <td>Opel</td>\n",
       "    </tr>\n",
       "    <tr>\n",
       "      <th>112</th>\n",
       "      <td>Peugeot e-Traveller Compact 50 kWh</td>\n",
       "      <td>12.1</td>\n",
       "      <td>130.0</td>\n",
       "      <td>185.0</td>\n",
       "      <td>243.0</td>\n",
       "      <td>250.0</td>\n",
       "      <td>Front Wheel Drive</td>\n",
       "      <td>7</td>\n",
       "      <td>45.0</td>\n",
       "      <td>Peugeot</td>\n",
       "    </tr>\n",
       "    <tr>\n",
       "      <th>33</th>\n",
       "      <td>Volkswagen ID.3 Pro S</td>\n",
       "      <td>7.9</td>\n",
       "      <td>160.0</td>\n",
       "      <td>450.0</td>\n",
       "      <td>171.0</td>\n",
       "      <td>550.0</td>\n",
       "      <td>Rear Wheel Drive</td>\n",
       "      <td>4</td>\n",
       "      <td>77.0</td>\n",
       "      <td>Volkswagen</td>\n",
       "    </tr>\n",
       "  </tbody>\n",
       "</table>\n",
       "</div>"
      ],
      "text/plain": [
       "                                   Name  acceleration_in_sec  top_speed_km_h  \\\n",
       "88      Volkswagen ID.4 Pro Performance                  8.5           160.0   \n",
       "164        Toyota PROACE Verso L 50 kWh                 12.1           130.0   \n",
       "0                         Opel Ampera-e                  7.3           150.0   \n",
       "112  Peugeot e-Traveller Compact 50 kWh                 12.1           130.0   \n",
       "33                Volkswagen ID.3 Pro S                  7.9           160.0   \n",
       "\n",
       "     range_km  efficiency_Wh_km  fast_charge_speed_km_h              Drive  \\\n",
       "88      410.0             188.0                   500.0   Rear Wheel Drive   \n",
       "164     180.0             250.0                   240.0  Front Wheel Drive   \n",
       "0       335.0             173.0                   210.0  Front Wheel Drive   \n",
       "112     185.0             243.0                   250.0  Front Wheel Drive   \n",
       "33      450.0             171.0                   550.0   Rear Wheel Drive   \n",
       "\n",
       "     NumberofSeats  batter_capacity_kWh   BrandName  \n",
       "88               5                 77.0  Volkswagen  \n",
       "164              7                 45.0      Toyota  \n",
       "0                5                 58.0        Opel  \n",
       "112              7                 45.0     Peugeot  \n",
       "33               4                 77.0  Volkswagen  "
      ]
     },
     "execution_count": 52,
     "metadata": {},
     "output_type": "execute_result"
    }
   ],
   "source": [
    "# 2nd iteration: Sklearn pipeline + all features\n",
    "\n",
    "X_train.head()"
   ]
  },
  {
   "cell_type": "code",
   "execution_count": 53,
   "id": "16a8e040-fe3a-43a8-a792-10beac6eb32c",
   "metadata": {},
   "outputs": [
    {
     "data": {
      "text/plain": [
       "Pipeline(steps=[('processor',\n",
       "                 ColumnTransformer(transformers=[('number',\n",
       "                                                  Pipeline(steps=[('scale',\n",
       "                                                                   MinMaxScaler())]),\n",
       "                                                  ['acceleration_in_sec',\n",
       "                                                   'top_speed_km_h', 'range_km',\n",
       "                                                   'efficiency_Wh_km',\n",
       "                                                   'fast_charge_speed_km_h',\n",
       "                                                   'batter_capacity_kWh']),\n",
       "                                                 ('category',\n",
       "                                                  Pipeline(steps=[('one_hot_enc',\n",
       "                                                                   OneHotEncoder(drop='first'))]),\n",
       "                                                  [])])),\n",
       "                ('model', LinearRegression())])"
      ]
     },
     "execution_count": 53,
     "metadata": {},
     "output_type": "execute_result"
    }
   ],
   "source": [
    "from sklearn.pipeline import Pipeline\n",
    "from sklearn.compose import ColumnTransformer\n",
    "from sklearn.preprocessing import OneHotEncoder, MinMaxScaler\n",
    "\n",
    "cat_pipeline = Pipeline(steps=[\n",
    "    ('one_hot_enc', OneHotEncoder(drop='first'))\n",
    "])\n",
    "num_pipeline = Pipeline(steps=[\n",
    "    ('scale', MinMaxScaler())\n",
    "])\n",
    "\n",
    "cat_cols = X_train.select_dtypes('category').columns.tolist()\n",
    "num_cols = X_train.select_dtypes('float').columns.tolist()\n",
    "full_processor = ColumnTransformer(transformers=[\n",
    "    ('number', num_pipeline, num_cols), \n",
    "    ('category', cat_pipeline, cat_cols)\n",
    "])\n",
    "\n",
    "lm_pipeline = Pipeline(steps=[\n",
    "    ('processor', full_processor), \n",
    "    ('model', LinearRegression())\n",
    "])\n",
    "\n",
    "_ = lm_pipeline.fit(X_train, y_train)\n",
    "lm_pipeline"
   ]
  },
  {
   "cell_type": "code",
   "execution_count": 54,
   "id": "7d7cfdb3-0b1c-4de4-8f3f-a0d7eb77b01b",
   "metadata": {},
   "outputs": [
    {
     "name": "stdout",
     "output_type": "stream",
     "text": [
      "\n",
      "        MSE: 357895315.2347892\n",
      "        RMSE: 18918.12134528133\n",
      "        MAE: 11865.882216008764\n",
      "        MAPE: 0.1991315201499947\n",
      "        \n",
      "206700.6741502019 20490.0\n"
     ]
    },
    {
     "data": {
      "image/png": "[encoded data removed]",
      "text/plain": [
       "<Figure size 576x576 with 1 Axes>"
      ]
     },
     "metadata": {
      "needs_background": "light"
     },
     "output_type": "display_data"
    },
    {
     "data": {
      "image/png": "[encoded data removed]",
      "text/plain": [
       "<Figure size 864x576 with 1 Axes>"
      ]
     },
     "metadata": {
      "needs_background": "light"
     },
     "output_type": "display_data"
    },
    {
     "data": {
      "image/png": "[encoded data removed]",
      "text/plain": [
       "<Figure size 864x576 with 1 Axes>"
      ]
     },
     "metadata": {
      "needs_background": "light"
     },
     "output_type": "display_data"
    }
   ],
   "source": [
    "def plot_predictions(y_true, y_pred): \n",
    "    print(\n",
    "        f\"\"\"\n",
    "        MSE: {mean_squared_error(y_true, y_pred)}\n",
    "        RMSE: {mean_squared_error(y_true, y_pred)**0.5}\n",
    "        MAE: {mean_absolute_error(y_true, y_pred)}\n",
    "        MAPE: {mean_abs_perc_error(y_true, y_pred)}\n",
    "        \"\"\"\n",
    "    )\n",
    "    max_preds = min([max(y_pred.tolist()), max(y_true.tolist())])\n",
    "    min_preds = max([min(y_pred.tolist()), min(y_true.tolist())])\n",
    "    print(max_preds, min_preds)\n",
    "    # plot\n",
    "    plt.figure(figsize=(8,8))\n",
    "    sns.scatterplot(x=y_pred, y=y_true)\n",
    "    sns.lineplot(x=[min_preds,max_preds], y=[min_preds, max_preds], color='red')\n",
    "    plt.ylabel('Reference')\n",
    "    plt.xlabel('Predictions')\n",
    "    plt.ticklabel_format(style='plain', axis='x')\n",
    "    plt.ticklabel_format(style='plain', axis='y')\n",
    "    plt.show()\n",
    "\n",
    "    errors = y_pred - y_true\n",
    "    plt.subplots(figsize=(12, 8))\n",
    "    sns.histplot(errors)\n",
    "    plt.vlines(x=0, ymin=0, ymax=600, color='red')\n",
    "    plt.ticklabel_format(style='plain', axis='x')\n",
    "    plt.ticklabel_format(style='plain', axis='y')\n",
    "    plt.show()\n",
    "\n",
    "    p_df = (\n",
    "        pd.DataFrame({'y_true':y_true, 'y_pred':y_pred})\n",
    "        .assign(error = lambda x: x['y_pred'] - x['y_true'])\n",
    "        .sort_values(by='y_true')\n",
    "        )\n",
    "\n",
    "    plt.subplots(figsize=(12, 8))\n",
    "    sns.scatterplot(data=p_df, x='y_true', y='error')\n",
    "    plt.hlines(y=0, xmin=0, xmax=max(p_df['y_true']), color='red')\n",
    "    plt.ticklabel_format(style='plain', axis='x')\n",
    "    plt.ticklabel_format(style='plain', axis='y')\n",
    "    plt.show()\n",
    "\n",
    "    return {\n",
    "        'mse': mean_squared_error(y_true, y_pred), \n",
    "        'rmse': mean_squared_error(y_true, y_pred)**0.5,\n",
    "        'mae': mean_absolute_error(y_true, y_pred),\n",
    "        'mape': mean_abs_perc_error(y_true, y_pred)\n",
    "\n",
    "    }\n",
    "\n",
    "    \n",
    "\n",
    "#plot_predictions(y_test, results['predictions'])\n",
    "\n",
    "mod_res['2nd_iter'] = plot_predictions(y_train, lm_pipeline.predict(X_train))"
   ]
  },
  {
   "cell_type": "code",
   "execution_count": 55,
   "id": "61f8c087-11fd-41af-a66a-a0e8aaac6448",
   "metadata": {},
   "outputs": [
    {
     "data": {
      "image/png": "[encoded data removed]",
      "text/plain": [
       "<Figure size 432x288 with 1 Axes>"
      ]
     },
     "metadata": {
      "needs_background": "light"
     },
     "output_type": "display_data"
    }
   ],
   "source": [
    "# 3rd iteration: Logirithm tranformation\n",
    "\n",
    "sns.histplot(y_train)\n",
    "plt.title('Price distribution')\n",
    "plt.show()"
   ]
  },
  {
   "cell_type": "code",
   "execution_count": 56,
   "id": "3e3a4bf8-66f7-4ab5-bb99-63f63bb55e14",
   "metadata": {},
   "outputs": [
    {
     "data": {
      "image/png": "[encoded data removed]",
      "text/plain": [
       "<Figure size 432x288 with 1 Axes>"
      ]
     },
     "metadata": {
      "needs_background": "light"
     },
     "output_type": "display_data"
    }
   ],
   "source": [
    "sns.histplot(np.log(y_train))\n",
    "plt.title('Price distribution')\n",
    "plt.show()"
   ]
  },
  {
   "cell_type": "code",
   "execution_count": 57,
   "id": "c7b4d65f-619d-4b5e-b7c3-a5853459963d",
   "metadata": {},
   "outputs": [
    {
     "name": "stdout",
     "output_type": "stream",
     "text": [
      "\n",
      "        MSE: 340018695.6941904\n",
      "        RMSE: 18439.59586580439\n",
      "        MAE: 10306.60839606597\n",
      "        MAPE: 0.1417645581813737\n",
      "        \n",
      "215000.0 20490.0\n"
     ]
    },
    {
     "data": {
      "image/png": "[encoded data removed]",
      "text/plain": [
       "<Figure size 576x576 with 1 Axes>"
      ]
     },
     "metadata": {
      "needs_background": "light"
     },
     "output_type": "display_data"
    },
    {
     "data": {
      "image/png": "[encoded data removed]",
      "text/plain": [
       "<Figure size 864x576 with 1 Axes>"
      ]
     },
     "metadata": {
      "needs_background": "light"
     },
     "output_type": "display_data"
    },
    {
     "data": {
      "image/png": "[encoded data removed]",
      "text/plain": [
       "<Figure size 864x576 with 1 Axes>"
      ]
     },
     "metadata": {
      "needs_background": "light"
     },
     "output_type": "display_data"
    }
   ],
   "source": [
    "lm_pipeline.fit(X_train, np.log(y_train))\n",
    "mod_res['3rd_iter'] = plot_predictions(y_train, np.exp(lm_pipeline.predict(X_train)))"
   ]
  },
  {
   "cell_type": "code",
   "execution_count": 58,
   "id": "a04e1bb7-b156-4c9f-8b44-7e8761df035d",
   "metadata": {},
   "outputs": [
    {
     "data": {
      "image/png": "[encoded data removed]",
      "text/plain": [
       "<Figure size 432x288 with 1 Axes>"
      ]
     },
     "metadata": {
      "needs_background": "light"
     },
     "output_type": "display_data"
    }
   ],
   "source": [
    "# 4th iteration: exploring correlation\n",
    "\n",
    "sns.scatterplot(data=X_train, x=\"acceleration_in_sec\", y=\"range_km\")\n",
    "plt.show()"
   ]
  },
  {
   "cell_type": "code",
   "execution_count": 59,
   "id": "58890f5e-aab9-4f70-b044-bd733b1f8beb",
   "metadata": {},
   "outputs": [
    {
     "data": {
      "text/plain": [
       "-0.6877472906343427"
      ]
     },
     "execution_count": 59,
     "metadata": {},
     "output_type": "execute_result"
    }
   ],
   "source": [
    "import numpy as np\n",
    "\n",
    "X_train_copy = X_train.copy()\n",
    "\n",
    "X_train_copy['corrn'] = (\n",
    "    (X_train_copy['acceleration_in_sec'] - np.mean(X_train_copy['acceleration_in_sec'])) * \n",
    "    (X_train_copy['range_km'] - np.mean(X_train_copy['range_km']))\n",
    ")\n",
    "X_train_copy.head()\n",
    "\n",
    "X_train_copy['corr1'] = (X_train_copy['acceleration_in_sec'] - np.mean(X_train_copy['acceleration_in_sec']))**2\n",
    "X_train_copy.head()\n",
    "\n",
    "X_train_copy['corr2'] = (X_train_copy['range_km'] - np.mean(X_train_copy['range_km']))**2\n",
    "X_train_copy.head()\n",
    "\n",
    "corrn = sum(X_train_copy['corrn'])/np.sqrt(sum(X_train_copy['corr1']) * sum(X_train_copy['corr2']))\n",
    "corrn"
   ]
  },
  {
   "cell_type": "code",
   "execution_count": 60,
   "id": "5bd5e3d8-a79d-4f17-b2bf-884068629ecb",
   "metadata": {},
   "outputs": [
    {
     "name": "stdout",
     "output_type": "stream",
     "text": [
      "-0.8374717448252076\n",
      "0.6179560390050663\n",
      "-0.5918884375537937\n"
     ]
    }
   ],
   "source": [
    "# 1. function that given two columns, it returns the corr. coeficient\n",
    "def corr_coeff(df, var1, var2): \n",
    "    temp = df.copy()\n",
    "    temp['corrn'] = (\n",
    "        (temp[var1] - np.mean(temp[var1])) * \n",
    "        (temp[var2] - np.mean(temp[var2]))\n",
    "    )\n",
    "    temp['corr1'] = (temp[var1] - np.mean(temp[var1]))**2\n",
    "    temp['corr2'] = (temp[var2] - np.mean(temp[var2]))**2\n",
    "    corrn = sum(temp['corrn'])/np.sqrt(sum(temp['corr1']) * sum(temp['corr2']))\n",
    "    return corrn\n",
    "\n",
    "\n",
    "# 2. Calculate the corr_coeficients for all the columns\n",
    "temp = pd.concat([X_train, y_train], axis=1)\n",
    "\n",
    "print(corr_coeff(temp, 'acceleration_in_sec', 'top_speed_km_h'))\n",
    "print(corr_coeff(temp, 'price_in_euros', 'range_km'))\n",
    "print(corr_coeff(temp, 'price_in_euros', 'acceleration_in_sec'))\n"
   ]
  },
  {
   "cell_type": "code",
   "execution_count": 61,
   "id": "a04f459b-61a7-4fa0-a94f-d1b0d3246229",
   "metadata": {},
   "outputs": [
    {
     "name": "stdout",
     "output_type": "stream",
     "text": [
      "r between acceleration_in_sec and acceleration_in_sec is 1.0\n",
      "r between acceleration_in_sec and top_speed_km_h is -0.8374717448252076\n",
      "r between acceleration_in_sec and range_km is -0.6877472906343427\n",
      "r between acceleration_in_sec and efficiency_Wh_km is 0.11648293219608007\n",
      "r between acceleration_in_sec and fast_charge_speed_km_h is -0.7228929386659352\n",
      "r between acceleration_in_sec and batter_capacity_kWh is -0.6252820700233878\n",
      "r between top_speed_km_h and acceleration_in_sec is -0.8374717448252076\n",
      "r between top_speed_km_h and top_speed_km_h is 1.0\n",
      "r between top_speed_km_h and range_km is 0.742086682379351\n",
      "r between top_speed_km_h and efficiency_Wh_km is -0.033395008762070695\n",
      "r between top_speed_km_h and fast_charge_speed_km_h is 0.7534110208531586\n",
      "r between top_speed_km_h and batter_capacity_kWh is 0.6916631821998748\n",
      "r between range_km and acceleration_in_sec is -0.6877472906343427\n",
      "r between range_km and top_speed_km_h is 0.742086682379351\n",
      "r between range_km and range_km is 1.0\n",
      "r between range_km and efficiency_Wh_km is -0.12150245459674407\n",
      "r between range_km and fast_charge_speed_km_h is 0.7290211651370888\n",
      "r between range_km and batter_capacity_kWh is 0.8860854634340859\n",
      "r between efficiency_Wh_km and acceleration_in_sec is 0.11648293219608007\n",
      "r between efficiency_Wh_km and top_speed_km_h is -0.033395008762070695\n",
      "r between efficiency_Wh_km and range_km is -0.12150245459674407\n",
      "r between efficiency_Wh_km and efficiency_Wh_km is 1.0\n",
      "r between efficiency_Wh_km and fast_charge_speed_km_h is -0.14604586647931259\n",
      "r between efficiency_Wh_km and batter_capacity_kWh is 0.3149744906626058\n",
      "r between fast_charge_speed_km_h and acceleration_in_sec is -0.7228929386659352\n",
      "r between fast_charge_speed_km_h and top_speed_km_h is 0.7534110208531586\n",
      "r between fast_charge_speed_km_h and range_km is 0.7290211651370888\n",
      "r between fast_charge_speed_km_h and efficiency_Wh_km is -0.14604586647931259\n",
      "r between fast_charge_speed_km_h and fast_charge_speed_km_h is 1.0\n",
      "r between fast_charge_speed_km_h and batter_capacity_kWh is 0.5936835839513047\n",
      "r between batter_capacity_kWh and acceleration_in_sec is -0.6252820700233878\n",
      "r between batter_capacity_kWh and top_speed_km_h is 0.6916631821998748\n",
      "r between batter_capacity_kWh and range_km is 0.8860854634340859\n",
      "r between batter_capacity_kWh and efficiency_Wh_km is 0.3149744906626058\n",
      "r between batter_capacity_kWh and fast_charge_speed_km_h is 0.5936835839513047\n",
      "r between batter_capacity_kWh and batter_capacity_kWh is 1.0\n"
     ]
    },
    {
     "data": {
      "text/html": [
       "<div>\n",
       "<style scoped>\n",
       "    .dataframe tbody tr th:only-of-type {\n",
       "        vertical-align: middle;\n",
       "    }\n",
       "\n",
       "    .dataframe tbody tr th {\n",
       "        vertical-align: top;\n",
       "    }\n",
       "\n",
       "    .dataframe thead th {\n",
       "        text-align: right;\n",
       "    }\n",
       "</style>\n",
       "<table border=\"1\" class=\"dataframe\">\n",
       "  <thead>\n",
       "    <tr style=\"text-align: right;\">\n",
       "      <th></th>\n",
       "      <th>acceleration_in_sec</th>\n",
       "      <th>top_speed_km_h</th>\n",
       "      <th>range_km</th>\n",
       "      <th>efficiency_Wh_km</th>\n",
       "      <th>fast_charge_speed_km_h</th>\n",
       "      <th>batter_capacity_kWh</th>\n",
       "    </tr>\n",
       "  </thead>\n",
       "  <tbody>\n",
       "    <tr>\n",
       "      <th>acceleration_in_sec</th>\n",
       "      <td>1.000000</td>\n",
       "      <td>-0.837472</td>\n",
       "      <td>-0.687747</td>\n",
       "      <td>0.116483</td>\n",
       "      <td>-0.722893</td>\n",
       "      <td>-0.625282</td>\n",
       "    </tr>\n",
       "    <tr>\n",
       "      <th>top_speed_km_h</th>\n",
       "      <td>-0.837472</td>\n",
       "      <td>1.000000</td>\n",
       "      <td>0.742087</td>\n",
       "      <td>-0.033395</td>\n",
       "      <td>0.753411</td>\n",
       "      <td>0.691663</td>\n",
       "    </tr>\n",
       "    <tr>\n",
       "      <th>range_km</th>\n",
       "      <td>-0.687747</td>\n",
       "      <td>0.742087</td>\n",
       "      <td>1.000000</td>\n",
       "      <td>-0.121502</td>\n",
       "      <td>0.729021</td>\n",
       "      <td>0.886085</td>\n",
       "    </tr>\n",
       "    <tr>\n",
       "      <th>efficiency_Wh_km</th>\n",
       "      <td>0.116483</td>\n",
       "      <td>-0.033395</td>\n",
       "      <td>-0.121502</td>\n",
       "      <td>1.000000</td>\n",
       "      <td>-0.146046</td>\n",
       "      <td>0.314974</td>\n",
       "    </tr>\n",
       "    <tr>\n",
       "      <th>fast_charge_speed_km_h</th>\n",
       "      <td>-0.722893</td>\n",
       "      <td>0.753411</td>\n",
       "      <td>0.729021</td>\n",
       "      <td>-0.146046</td>\n",
       "      <td>1.000000</td>\n",
       "      <td>0.593684</td>\n",
       "    </tr>\n",
       "  </tbody>\n",
       "</table>\n",
       "</div>"
      ],
      "text/plain": [
       "                        acceleration_in_sec  top_speed_km_h  range_km  \\\n",
       "acceleration_in_sec                1.000000       -0.837472 -0.687747   \n",
       "top_speed_km_h                    -0.837472        1.000000  0.742087   \n",
       "range_km                          -0.687747        0.742087  1.000000   \n",
       "efficiency_Wh_km                   0.116483       -0.033395 -0.121502   \n",
       "fast_charge_speed_km_h            -0.722893        0.753411  0.729021   \n",
       "\n",
       "                        efficiency_Wh_km  fast_charge_speed_km_h  \\\n",
       "acceleration_in_sec             0.116483               -0.722893   \n",
       "top_speed_km_h                 -0.033395                0.753411   \n",
       "range_km                       -0.121502                0.729021   \n",
       "efficiency_Wh_km                1.000000               -0.146046   \n",
       "fast_charge_speed_km_h         -0.146046                1.000000   \n",
       "\n",
       "                        batter_capacity_kWh  \n",
       "acceleration_in_sec               -0.625282  \n",
       "top_speed_km_h                     0.691663  \n",
       "range_km                           0.886085  \n",
       "efficiency_Wh_km                   0.314974  \n",
       "fast_charge_speed_km_h             0.593684  "
      ]
     },
     "execution_count": 61,
     "metadata": {},
     "output_type": "execute_result"
    }
   ],
   "source": [
    "num_cols = X_train.select_dtypes('float').columns\n",
    "results = []\n",
    "for col in num_cols:\n",
    "    res2 = {}\n",
    "    for col2 in num_cols:\n",
    "        r = corr_coeff(X_train, col, col2)\n",
    "        print(f'r between {col} and {col2} is {r}')\n",
    "        res2[col2] = r\n",
    "    results.append(res2)\n",
    "dfr = pd.DataFrame(pd.json_normalize(results))\n",
    "dfr.index = num_cols\n",
    "\n",
    "dfr.head()"
   ]
  },
  {
   "cell_type": "code",
   "execution_count": 62,
   "id": "80c00a2f-ee5a-4331-b121-f2bec0b06d59",
   "metadata": {},
   "outputs": [
    {
     "data": {
      "image/png": "[encoded data removed]",
      "text/plain": [
       "<Figure size 864x648 with 2 Axes>"
      ]
     },
     "metadata": {
      "needs_background": "light"
     },
     "output_type": "display_data"
    }
   ],
   "source": [
    "train = pd.concat([X_train, y_train], axis=1)\n",
    "plt.subplots(figsize=(12, 9))\n",
    "sns.heatmap(train.corr(), vmin=-1, vmax=1, cmap='RdGy')\n",
    "plt.show()"
   ]
  },
  {
   "cell_type": "code",
   "execution_count": null,
   "id": "756531dc-0f29-4453-9eed-3c1ca42692e8",
   "metadata": {},
   "outputs": [],
   "source": []
  }
 ],
 "metadata": {
  "kernelspec": {
   "display_name": "Python 3 (ipykernel)",
   "language": "python",
   "name": "python3"
  },
  "language_info": {
   "codemirror_mode": {
    "name": "ipython",
    "version": 3
   },
   "file_extension": ".py",
   "mimetype": "text/x-python",
   "name": "python",
   "nbconvert_exporter": "python",
   "pygments_lexer": "ipython3",
   "version": "3.9.7"
  }
 },
 "nbformat": 4,
 "nbformat_minor": 5
}
