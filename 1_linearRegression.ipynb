{
 "cells": [
  {
   "cell_type": "code",
   "execution_count": 64,
   "id": "021b20ad-87c7-446b-98fa-b6c75f494003",
   "metadata": {},
   "outputs": [],
   "source": [
    "import pandas as pd\n",
    "import numpy as np\n",
    "import seaborn as sns\n",
    "import matplotlib.pyplot as plt\n",
    "\n",
    "\n",
    "from sklearn.linear_model import LinearRegression\n",
    "\n",
    "import re"
   ]
  },
  {
   "cell_type": "code",
   "execution_count": 2,
   "id": "36555400-2fa4-450c-858f-32feb34939bb",
   "metadata": {},
   "outputs": [],
   "source": [
    "df = pd.read_csv('electriccars.csv')"
   ]
  },
  {
   "cell_type": "code",
   "execution_count": 3,
   "id": "a49b452c-9b08-48b9-b47c-720246708d06",
   "metadata": {},
   "outputs": [
    {
     "data": {
      "text/html": [
       "<div>\n",
       "<style scoped>\n",
       "    .dataframe tbody tr th:only-of-type {\n",
       "        vertical-align: middle;\n",
       "    }\n",
       "\n",
       "    .dataframe tbody tr th {\n",
       "        vertical-align: top;\n",
       "    }\n",
       "\n",
       "    .dataframe thead th {\n",
       "        text-align: right;\n",
       "    }\n",
       "</style>\n",
       "<table border=\"1\" class=\"dataframe\">\n",
       "  <thead>\n",
       "    <tr style=\"text-align: right;\">\n",
       "      <th></th>\n",
       "      <th>Name</th>\n",
       "      <th>Subtitle</th>\n",
       "      <th>Acceleration</th>\n",
       "      <th>TopSpeed</th>\n",
       "      <th>Range</th>\n",
       "      <th>Efficiency</th>\n",
       "      <th>FastChargeSpeed</th>\n",
       "      <th>Drive</th>\n",
       "      <th>NumberofSeats</th>\n",
       "      <th>PriceinGermany</th>\n",
       "      <th>PriceinUK</th>\n",
       "    </tr>\n",
       "  </thead>\n",
       "  <tbody>\n",
       "    <tr>\n",
       "      <th>0</th>\n",
       "      <td>Opel Ampera-e</td>\n",
       "      <td>Battery Electric Vehicle |       58 kWh</td>\n",
       "      <td>7.3 sec</td>\n",
       "      <td>150 km/h</td>\n",
       "      <td>335 km</td>\n",
       "      <td>173 Wh/km</td>\n",
       "      <td>210 km/h</td>\n",
       "      <td>Front Wheel Drive</td>\n",
       "      <td>5</td>\n",
       "      <td>€42,990</td>\n",
       "      <td>NaN</td>\n",
       "    </tr>\n",
       "    <tr>\n",
       "      <th>1</th>\n",
       "      <td>Renault Kangoo Maxi ZE 33</td>\n",
       "      <td>Battery Electric Vehicle |       31 kWh</td>\n",
       "      <td>22.4 sec</td>\n",
       "      <td>130 km/h</td>\n",
       "      <td>160 km</td>\n",
       "      <td>194 Wh/km</td>\n",
       "      <td>-</td>\n",
       "      <td>Front Wheel Drive</td>\n",
       "      <td>5</td>\n",
       "      <td>NaN</td>\n",
       "      <td>£31,680</td>\n",
       "    </tr>\n",
       "  </tbody>\n",
       "</table>\n",
       "</div>"
      ],
      "text/plain": [
       "                        Name                                  Subtitle  \\\n",
       "0             Opel Ampera-e   Battery Electric Vehicle |       58 kWh    \n",
       "1  Renault Kangoo Maxi ZE 33  Battery Electric Vehicle |       31 kWh    \n",
       "\n",
       "  Acceleration  TopSpeed   Range Efficiency FastChargeSpeed  \\\n",
       "0      7.3 sec  150 km/h  335 km  173 Wh/km        210 km/h   \n",
       "1     22.4 sec  130 km/h  160 km  194 Wh/km               -   \n",
       "\n",
       "               Drive  NumberofSeats PriceinGermany PriceinUK  \n",
       "0  Front Wheel Drive              5        €42,990       NaN  \n",
       "1  Front Wheel Drive              5            NaN   £31,680  "
      ]
     },
     "execution_count": 3,
     "metadata": {},
     "output_type": "execute_result"
    }
   ],
   "source": [
    "df.head(2)"
   ]
  },
  {
   "cell_type": "code",
   "execution_count": 4,
   "id": "6cb4c8d4-d6a7-45bd-8495-644151fca8da",
   "metadata": {},
   "outputs": [
    {
     "data": {
      "text/plain": [
       "(180, 11)"
      ]
     },
     "execution_count": 4,
     "metadata": {},
     "output_type": "execute_result"
    }
   ],
   "source": [
    "df.shape"
   ]
  },
  {
   "cell_type": "code",
   "execution_count": 5,
   "id": "9255d72a-ad23-4869-ac74-d1bd4811096b",
   "metadata": {},
   "outputs": [
    {
     "data": {
      "text/plain": [
       "Name                0\n",
       "Subtitle            0\n",
       "Acceleration        0\n",
       "TopSpeed            0\n",
       "Range               0\n",
       "Efficiency          0\n",
       "FastChargeSpeed     0\n",
       "Drive               0\n",
       "NumberofSeats       0\n",
       "PriceinGermany     12\n",
       "PriceinUK          44\n",
       "dtype: int64"
      ]
     },
     "execution_count": 5,
     "metadata": {},
     "output_type": "execute_result"
    }
   ],
   "source": [
    "df.isna().sum()"
   ]
  },
  {
   "cell_type": "code",
   "execution_count": 6,
   "id": "52a656fc-6a3c-4e67-9097-118bf11464d7",
   "metadata": {},
   "outputs": [],
   "source": [
    "# extract numeric data\n",
    "def extract_num(x):\n",
    "    \"\"\"\n",
    "    this function extracts the numeric data from the string \n",
    "    and converts the data type to float. \n",
    "    It uses a regex to extact intergers and floats.\n",
    "    \"\"\"\n",
    "    return float(re.findall(r\"[-+]?\\d*\\.?\\d+|\\d+\", x)[0])"
   ]
  },
  {
   "cell_type": "code",
   "execution_count": 7,
   "id": "54e20704-4eba-4d7d-8c93-5c8534b7c774",
   "metadata": {},
   "outputs": [
    {
     "data": {
      "text/plain": [
       "'7.3 sec'"
      ]
     },
     "execution_count": 7,
     "metadata": {},
     "output_type": "execute_result"
    }
   ],
   "source": [
    "df['Acceleration'][0]"
   ]
  },
  {
   "cell_type": "code",
   "execution_count": 8,
   "id": "5aa516b4-4699-4a57-ac7c-09b24e2f25d1",
   "metadata": {},
   "outputs": [
    {
     "name": "stdout",
     "output_type": "stream",
     "text": [
      "7.3\n",
      "<class 'float'>\n"
     ]
    }
   ],
   "source": [
    "print(extract_num(df['Acceleration'][0]))\n",
    "print(type(extract_num(df['Acceleration'][0])))"
   ]
  },
  {
   "cell_type": "code",
   "execution_count": 9,
   "id": "6e0eb1aa-b1a7-4f04-be0d-575f923a4f9a",
   "metadata": {},
   "outputs": [],
   "source": [
    "df['BatteryCapacity'] = df['Subtitle'].apply(extract_num)"
   ]
  },
  {
   "cell_type": "code",
   "execution_count": 10,
   "id": "fe0c2b60-df28-4f4f-a7f2-8212d6a0005e",
   "metadata": {},
   "outputs": [],
   "source": [
    "# extract brand name from name\n",
    "df['BrandName'] = df['Name'].apply(lambda x: x.split()[0])"
   ]
  },
  {
   "cell_type": "code",
   "execution_count": 11,
   "id": "d7184be5-46bd-4b1d-8fde-f6788d88c5f4",
   "metadata": {},
   "outputs": [],
   "source": [
    "for col_name in ['Acceleration', 'TopSpeed', 'Range', 'Efficiency']:\n",
    "    df[col_name] = df[col_name].apply(extract_num)"
   ]
  },
  {
   "cell_type": "code",
   "execution_count": 12,
   "id": "58e5ce53-df0e-4350-8862-661232c10235",
   "metadata": {},
   "outputs": [],
   "source": [
    "df.drop(columns=['PriceinUK', 'Subtitle'] , axis=1, inplace=True)"
   ]
  },
  {
   "cell_type": "code",
   "execution_count": 13,
   "id": "de9bcbb2-ab83-4aa2-9f45-9c42c3000e1d",
   "metadata": {},
   "outputs": [],
   "source": [
    "df['PriceinGermany'] = df['PriceinGermany']\\\n",
    "                                           .fillna('-1')\\\n",
    "                                           .apply(lambda x: re.sub(',', '', x))\\\n",
    "                                           .apply(extract_num)\\\n",
    "                                           .replace(-1, np.nan)"
   ]
  },
  {
   "cell_type": "code",
   "execution_count": 14,
   "id": "6eb3b1b4-7750-458d-a41e-0f205a2bacb3",
   "metadata": {},
   "outputs": [],
   "source": [
    "FastChargeSpeed=[]\n",
    "for item in df['FastChargeSpeed']:\n",
    "    FastChargeSpeed+=[int(item.replace(' km/h','').replace('-','0'))]\n",
    "df['FastChargeSpeed']=FastChargeSpeed"
   ]
  },
  {
   "cell_type": "code",
   "execution_count": 15,
   "id": "c194097c-807f-427d-a3cc-abe414407795",
   "metadata": {},
   "outputs": [],
   "source": [
    "df['FastChargeSpeed'] = df['FastChargeSpeed'].replace(0, np.nan)"
   ]
  },
  {
   "cell_type": "code",
   "execution_count": 16,
   "id": "8fdc8726-fda6-4ba1-b392-0fa75d39009f",
   "metadata": {},
   "outputs": [
    {
     "data": {
      "text/html": [
       "<div>\n",
       "<style scoped>\n",
       "    .dataframe tbody tr th:only-of-type {\n",
       "        vertical-align: middle;\n",
       "    }\n",
       "\n",
       "    .dataframe tbody tr th {\n",
       "        vertical-align: top;\n",
       "    }\n",
       "\n",
       "    .dataframe thead th {\n",
       "        text-align: right;\n",
       "    }\n",
       "</style>\n",
       "<table border=\"1\" class=\"dataframe\">\n",
       "  <thead>\n",
       "    <tr style=\"text-align: right;\">\n",
       "      <th></th>\n",
       "      <th>Name</th>\n",
       "      <th>Acceleration</th>\n",
       "      <th>TopSpeed</th>\n",
       "      <th>Range</th>\n",
       "      <th>Efficiency</th>\n",
       "      <th>FastChargeSpeed</th>\n",
       "      <th>Drive</th>\n",
       "      <th>NumberofSeats</th>\n",
       "      <th>PriceinGermany</th>\n",
       "      <th>BatteryCapacity</th>\n",
       "      <th>BrandName</th>\n",
       "    </tr>\n",
       "  </thead>\n",
       "  <tbody>\n",
       "    <tr>\n",
       "      <th>0</th>\n",
       "      <td>Opel Ampera-e</td>\n",
       "      <td>7.3</td>\n",
       "      <td>150.0</td>\n",
       "      <td>335.0</td>\n",
       "      <td>173.0</td>\n",
       "      <td>210.0</td>\n",
       "      <td>Front Wheel Drive</td>\n",
       "      <td>5</td>\n",
       "      <td>42990.0</td>\n",
       "      <td>58.0</td>\n",
       "      <td>Opel</td>\n",
       "    </tr>\n",
       "    <tr>\n",
       "      <th>1</th>\n",
       "      <td>Renault Kangoo Maxi ZE 33</td>\n",
       "      <td>22.4</td>\n",
       "      <td>130.0</td>\n",
       "      <td>160.0</td>\n",
       "      <td>194.0</td>\n",
       "      <td>NaN</td>\n",
       "      <td>Front Wheel Drive</td>\n",
       "      <td>5</td>\n",
       "      <td>NaN</td>\n",
       "      <td>31.0</td>\n",
       "      <td>Renault</td>\n",
       "    </tr>\n",
       "  </tbody>\n",
       "</table>\n",
       "</div>"
      ],
      "text/plain": [
       "                        Name  Acceleration  TopSpeed  Range  Efficiency  \\\n",
       "0             Opel Ampera-e            7.3     150.0  335.0       173.0   \n",
       "1  Renault Kangoo Maxi ZE 33          22.4     130.0  160.0       194.0   \n",
       "\n",
       "   FastChargeSpeed              Drive  NumberofSeats  PriceinGermany  \\\n",
       "0            210.0  Front Wheel Drive              5         42990.0   \n",
       "1              NaN  Front Wheel Drive              5             NaN   \n",
       "\n",
       "   BatteryCapacity BrandName  \n",
       "0             58.0      Opel  \n",
       "1             31.0   Renault  "
      ]
     },
     "execution_count": 16,
     "metadata": {},
     "output_type": "execute_result"
    }
   ],
   "source": [
    "df.head(2)"
   ]
  },
  {
   "cell_type": "code",
   "execution_count": 17,
   "id": "741ef141-d4a6-4233-b569-00cf37caa494",
   "metadata": {},
   "outputs": [
    {
     "name": "stdout",
     "output_type": "stream",
     "text": [
      "<class 'pandas.core.frame.DataFrame'>\n",
      "RangeIndex: 180 entries, 0 to 179\n",
      "Data columns (total 11 columns):\n",
      " #   Column           Non-Null Count  Dtype  \n",
      "---  ------           --------------  -----  \n",
      " 0   Name             180 non-null    object \n",
      " 1   Acceleration     180 non-null    float64\n",
      " 2   TopSpeed         180 non-null    float64\n",
      " 3   Range            180 non-null    float64\n",
      " 4   Efficiency       180 non-null    float64\n",
      " 5   FastChargeSpeed  175 non-null    float64\n",
      " 6   Drive            180 non-null    object \n",
      " 7   NumberofSeats    180 non-null    int64  \n",
      " 8   PriceinGermany   168 non-null    float64\n",
      " 9   BatteryCapacity  180 non-null    float64\n",
      " 10  BrandName        180 non-null    object \n",
      "dtypes: float64(7), int64(1), object(3)\n",
      "memory usage: 15.6+ KB\n"
     ]
    }
   ],
   "source": [
    "# datatypes of cleaned dataset\n",
    "df.info()"
   ]
  },
  {
   "cell_type": "code",
   "execution_count": 18,
   "id": "19cb997a-9afb-4639-8452-5d4426fda3fa",
   "metadata": {},
   "outputs": [
    {
     "data": {
      "text/plain": [
       "(180, 11)"
      ]
     },
     "execution_count": 18,
     "metadata": {},
     "output_type": "execute_result"
    }
   ],
   "source": [
    "# shape of cleaned dataset\n",
    "df.shape"
   ]
  },
  {
   "cell_type": "code",
   "execution_count": 19,
   "id": "ea9ebe68-5145-48e6-af61-2a9c179e082f",
   "metadata": {},
   "outputs": [],
   "source": [
    "df1 = df.dropna()"
   ]
  },
  {
   "cell_type": "code",
   "execution_count": 20,
   "id": "b2f457c1-8e62-4010-959e-f915a01e265c",
   "metadata": {},
   "outputs": [
    {
     "data": {
      "text/plain": [
       "(164, 11)"
      ]
     },
     "execution_count": 20,
     "metadata": {},
     "output_type": "execute_result"
    }
   ],
   "source": [
    "df1.shape"
   ]
  },
  {
   "cell_type": "code",
   "execution_count": 21,
   "id": "0038d1f9-c838-4187-9fd9-2b55ce6bb4fe",
   "metadata": {},
   "outputs": [
    {
     "data": {
      "text/plain": [
       "Name               0\n",
       "Acceleration       0\n",
       "TopSpeed           0\n",
       "Range              0\n",
       "Efficiency         0\n",
       "FastChargeSpeed    0\n",
       "Drive              0\n",
       "NumberofSeats      0\n",
       "PriceinGermany     0\n",
       "BatteryCapacity    0\n",
       "BrandName          0\n",
       "dtype: int64"
      ]
     },
     "execution_count": 21,
     "metadata": {},
     "output_type": "execute_result"
    }
   ],
   "source": [
    "df1.isnull().sum()"
   ]
  },
  {
   "cell_type": "code",
   "execution_count": 22,
   "id": "e5c627a2-a731-4842-93a3-39fc53a22848",
   "metadata": {},
   "outputs": [
    {
     "data": {
      "text/html": [
       "<div>\n",
       "<style scoped>\n",
       "    .dataframe tbody tr th:only-of-type {\n",
       "        vertical-align: middle;\n",
       "    }\n",
       "\n",
       "    .dataframe tbody tr th {\n",
       "        vertical-align: top;\n",
       "    }\n",
       "\n",
       "    .dataframe thead th {\n",
       "        text-align: right;\n",
       "    }\n",
       "</style>\n",
       "<table border=\"1\" class=\"dataframe\">\n",
       "  <thead>\n",
       "    <tr style=\"text-align: right;\">\n",
       "      <th></th>\n",
       "      <th>Name</th>\n",
       "      <th>Acceleration</th>\n",
       "      <th>TopSpeed</th>\n",
       "      <th>Range</th>\n",
       "      <th>Efficiency</th>\n",
       "      <th>FastChargeSpeed</th>\n",
       "      <th>Drive</th>\n",
       "      <th>NumberofSeats</th>\n",
       "      <th>PriceinGermany</th>\n",
       "      <th>BatteryCapacity</th>\n",
       "      <th>BrandName</th>\n",
       "    </tr>\n",
       "  </thead>\n",
       "  <tbody>\n",
       "    <tr>\n",
       "      <th>0</th>\n",
       "      <td>Opel Ampera-e</td>\n",
       "      <td>7.3</td>\n",
       "      <td>150.0</td>\n",
       "      <td>335.0</td>\n",
       "      <td>173.0</td>\n",
       "      <td>210.0</td>\n",
       "      <td>Front Wheel Drive</td>\n",
       "      <td>5</td>\n",
       "      <td>42990.0</td>\n",
       "      <td>58.0</td>\n",
       "      <td>Opel</td>\n",
       "    </tr>\n",
       "    <tr>\n",
       "      <th>2</th>\n",
       "      <td>Nissan Leaf</td>\n",
       "      <td>7.9</td>\n",
       "      <td>144.0</td>\n",
       "      <td>220.0</td>\n",
       "      <td>164.0</td>\n",
       "      <td>230.0</td>\n",
       "      <td>Front Wheel Drive</td>\n",
       "      <td>5</td>\n",
       "      <td>29990.0</td>\n",
       "      <td>36.0</td>\n",
       "      <td>Nissan</td>\n",
       "    </tr>\n",
       "  </tbody>\n",
       "</table>\n",
       "</div>"
      ],
      "text/plain": [
       "             Name  Acceleration  TopSpeed  Range  Efficiency  FastChargeSpeed  \\\n",
       "0  Opel Ampera-e            7.3     150.0  335.0       173.0            210.0   \n",
       "2    Nissan Leaf            7.9     144.0  220.0       164.0            230.0   \n",
       "\n",
       "               Drive  NumberofSeats  PriceinGermany  BatteryCapacity BrandName  \n",
       "0  Front Wheel Drive              5         42990.0             58.0      Opel  \n",
       "2  Front Wheel Drive              5         29990.0             36.0    Nissan  "
      ]
     },
     "execution_count": 22,
     "metadata": {},
     "output_type": "execute_result"
    }
   ],
   "source": [
    "df1.head(2)"
   ]
  },
  {
   "cell_type": "code",
   "execution_count": 23,
   "id": "f5a2848a-07c1-4566-bd82-8e8e33d4c1af",
   "metadata": {},
   "outputs": [],
   "source": [
    "cars = df1.drop_duplicates()"
   ]
  },
  {
   "cell_type": "code",
   "execution_count": 24,
   "id": "0d01aeed-1764-42e4-9cbb-52ac44d71db5",
   "metadata": {},
   "outputs": [
    {
     "data": {
      "text/plain": [
       "(163, 11)"
      ]
     },
     "execution_count": 24,
     "metadata": {},
     "output_type": "execute_result"
    }
   ],
   "source": [
    "cars.shape"
   ]
  },
  {
   "cell_type": "code",
   "execution_count": 25,
   "id": "b4bb2bca-545e-4991-a408-9695936f9a6a",
   "metadata": {},
   "outputs": [
    {
     "name": "stderr",
     "output_type": "stream",
     "text": [
      "C:\\Users\\atlab\\anaconda3\\lib\\site-packages\\pandas\\core\\generic.py:5516: SettingWithCopyWarning: \n",
      "A value is trying to be set on a copy of a slice from a DataFrame.\n",
      "Try using .loc[row_indexer,col_indexer] = value instead\n",
      "\n",
      "See the caveats in the documentation: https://pandas.pydata.org/pandas-docs/stable/user_guide/indexing.html#returning-a-view-versus-a-copy\n",
      "  self[name] = value\n"
     ]
    }
   ],
   "source": [
    "cars.Name = cars.Name.str.strip()"
   ]
  },
  {
   "cell_type": "code",
   "execution_count": 26,
   "id": "85429bc8-f373-4d37-8775-250caebae21d",
   "metadata": {},
   "outputs": [],
   "source": [
    "cars_1 = cars.rename(columns = {\"Acceleration\": \"acceleration_in_sec\", \n",
    "                                \"Range\": \"range_km\", \n",
    "                                \"TopSpeed\": \"top_speed_km_h\",\n",
    "                                \"Efficiency\": \"efficiency_Wh_km\",\n",
    "                                \"FastChargeSpeed\": \"fast_charge_speed_km_h\",\n",
    "                                \"PriceinGermany\": \"price_in_euros\",\n",
    "                                \"BatteryCapacity\": \"batter_capacity_kWh\"\n",
    "                               })"
   ]
  },
  {
   "cell_type": "code",
   "execution_count": 58,
   "id": "ad677db4-f444-48f7-b360-d1fcb67b1b27",
   "metadata": {},
   "outputs": [
    {
     "data": {
      "text/plain": [
       "<AxesSubplot:>"
      ]
     },
     "execution_count": 58,
     "metadata": {},
     "output_type": "execute_result"
    },
    {
     "data": {
      "image/png": "[encoded data removed]",
      "text/plain": [
       "<Figure size 576x432 with 2 Axes>"
      ]
     },
     "metadata": {
      "needs_background": "light"
     },
     "output_type": "display_data"
    }
   ],
   "source": [
    "plt.figure(figsize=(8,6))\n",
    "sns.heatmap(cars_1.corr(), annot=True)"
   ]
  },
  {
   "cell_type": "markdown",
   "id": "5d2089b5-11be-4bee-92b1-ed45d5dd552c",
   "metadata": {},
   "source": [
    "* Battery Capacity is correlated with Range. Range is a more relevant metric than Capacity.\n",
    "\n",
    "* Top Speed is highly correlated (negatively) with Acceleration."
   ]
  },
  {
   "cell_type": "code",
   "execution_count": 60,
   "id": "b18b4445-0228-497f-ace7-835691cbf853",
   "metadata": {},
   "outputs": [
    {
     "data": {
      "text/html": [
       "<div>\n",
       "<style scoped>\n",
       "    .dataframe tbody tr th:only-of-type {\n",
       "        vertical-align: middle;\n",
       "    }\n",
       "\n",
       "    .dataframe tbody tr th {\n",
       "        vertical-align: top;\n",
       "    }\n",
       "\n",
       "    .dataframe thead th {\n",
       "        text-align: right;\n",
       "    }\n",
       "</style>\n",
       "<table border=\"1\" class=\"dataframe\">\n",
       "  <thead>\n",
       "    <tr style=\"text-align: right;\">\n",
       "      <th></th>\n",
       "      <th>acceleration_in_sec</th>\n",
       "      <th>top_speed_km_h</th>\n",
       "      <th>range_km</th>\n",
       "      <th>efficiency_Wh_km</th>\n",
       "      <th>fast_charge_speed_km_h</th>\n",
       "      <th>NumberofSeats</th>\n",
       "      <th>price_in_euros</th>\n",
       "      <th>batter_capacity_kWh</th>\n",
       "    </tr>\n",
       "  </thead>\n",
       "  <tbody>\n",
       "    <tr>\n",
       "      <th>acceleration_in_sec</th>\n",
       "      <td>1.000000</td>\n",
       "      <td>-0.839352</td>\n",
       "      <td>-0.699885</td>\n",
       "      <td>0.212518</td>\n",
       "      <td>-0.731755</td>\n",
       "      <td>0.483750</td>\n",
       "      <td>-0.537946</td>\n",
       "      <td>-0.594831</td>\n",
       "    </tr>\n",
       "    <tr>\n",
       "      <th>top_speed_km_h</th>\n",
       "      <td>-0.839352</td>\n",
       "      <td>1.000000</td>\n",
       "      <td>0.753048</td>\n",
       "      <td>-0.082835</td>\n",
       "      <td>0.769126</td>\n",
       "      <td>-0.343754</td>\n",
       "      <td>0.745753</td>\n",
       "      <td>0.678486</td>\n",
       "    </tr>\n",
       "    <tr>\n",
       "      <th>range_km</th>\n",
       "      <td>-0.699885</td>\n",
       "      <td>0.753048</td>\n",
       "      <td>1.000000</td>\n",
       "      <td>-0.124378</td>\n",
       "      <td>0.744918</td>\n",
       "      <td>-0.207657</td>\n",
       "      <td>0.610508</td>\n",
       "      <td>0.880687</td>\n",
       "    </tr>\n",
       "    <tr>\n",
       "      <th>efficiency_Wh_km</th>\n",
       "      <td>0.212518</td>\n",
       "      <td>-0.082835</td>\n",
       "      <td>-0.124378</td>\n",
       "      <td>1.000000</td>\n",
       "      <td>-0.128559</td>\n",
       "      <td>0.622636</td>\n",
       "      <td>0.225910</td>\n",
       "      <td>0.325553</td>\n",
       "    </tr>\n",
       "    <tr>\n",
       "      <th>fast_charge_speed_km_h</th>\n",
       "      <td>-0.731755</td>\n",
       "      <td>0.769126</td>\n",
       "      <td>0.744918</td>\n",
       "      <td>-0.128559</td>\n",
       "      <td>1.000000</td>\n",
       "      <td>-0.266027</td>\n",
       "      <td>0.603905</td>\n",
       "      <td>0.617803</td>\n",
       "    </tr>\n",
       "    <tr>\n",
       "      <th>NumberofSeats</th>\n",
       "      <td>0.483750</td>\n",
       "      <td>-0.343754</td>\n",
       "      <td>-0.207657</td>\n",
       "      <td>0.622636</td>\n",
       "      <td>-0.266027</td>\n",
       "      <td>1.000000</td>\n",
       "      <td>-0.119905</td>\n",
       "      <td>0.029116</td>\n",
       "    </tr>\n",
       "    <tr>\n",
       "      <th>price_in_euros</th>\n",
       "      <td>-0.537946</td>\n",
       "      <td>0.745753</td>\n",
       "      <td>0.610508</td>\n",
       "      <td>0.225910</td>\n",
       "      <td>0.603905</td>\n",
       "      <td>-0.119905</td>\n",
       "      <td>1.000000</td>\n",
       "      <td>0.638697</td>\n",
       "    </tr>\n",
       "    <tr>\n",
       "      <th>batter_capacity_kWh</th>\n",
       "      <td>-0.594831</td>\n",
       "      <td>0.678486</td>\n",
       "      <td>0.880687</td>\n",
       "      <td>0.325553</td>\n",
       "      <td>0.617803</td>\n",
       "      <td>0.029116</td>\n",
       "      <td>0.638697</td>\n",
       "      <td>1.000000</td>\n",
       "    </tr>\n",
       "  </tbody>\n",
       "</table>\n",
       "</div>"
      ],
      "text/plain": [
       "                        acceleration_in_sec  top_speed_km_h  range_km  \\\n",
       "acceleration_in_sec                1.000000       -0.839352 -0.699885   \n",
       "top_speed_km_h                    -0.839352        1.000000  0.753048   \n",
       "range_km                          -0.699885        0.753048  1.000000   \n",
       "efficiency_Wh_km                   0.212518       -0.082835 -0.124378   \n",
       "fast_charge_speed_km_h            -0.731755        0.769126  0.744918   \n",
       "NumberofSeats                      0.483750       -0.343754 -0.207657   \n",
       "price_in_euros                    -0.537946        0.745753  0.610508   \n",
       "batter_capacity_kWh               -0.594831        0.678486  0.880687   \n",
       "\n",
       "                        efficiency_Wh_km  fast_charge_speed_km_h  \\\n",
       "acceleration_in_sec             0.212518               -0.731755   \n",
       "top_speed_km_h                 -0.082835                0.769126   \n",
       "range_km                       -0.124378                0.744918   \n",
       "efficiency_Wh_km                1.000000               -0.128559   \n",
       "fast_charge_speed_km_h         -0.128559                1.000000   \n",
       "NumberofSeats                   0.622636               -0.266027   \n",
       "price_in_euros                  0.225910                0.603905   \n",
       "batter_capacity_kWh             0.325553                0.617803   \n",
       "\n",
       "                        NumberofSeats  price_in_euros  batter_capacity_kWh  \n",
       "acceleration_in_sec          0.483750       -0.537946            -0.594831  \n",
       "top_speed_km_h              -0.343754        0.745753             0.678486  \n",
       "range_km                    -0.207657        0.610508             0.880687  \n",
       "efficiency_Wh_km             0.622636        0.225910             0.325553  \n",
       "fast_charge_speed_km_h      -0.266027        0.603905             0.617803  \n",
       "NumberofSeats                1.000000       -0.119905             0.029116  \n",
       "price_in_euros              -0.119905        1.000000             0.638697  \n",
       "batter_capacity_kWh          0.029116        0.638697             1.000000  "
      ]
     },
     "execution_count": 60,
     "metadata": {},
     "output_type": "execute_result"
    }
   ],
   "source": [
    "cars_1.corr()"
   ]
  },
  {
   "cell_type": "markdown",
   "id": "eb09d03f-d3e6-44bc-952e-449b617e4852",
   "metadata": {},
   "source": [
    "* We can see strong positive correlation between price and range. \n",
    "* But we can see two negative strong correlations: accelration and range , price and acceleration. \n",
    "* It means that when acceleration decreases price increases. But it also means that when range increases acceleration decreases."
   ]
  },
  {
   "cell_type": "code",
   "execution_count": 28,
   "id": "008af300-e6e1-4f13-a5b7-e2e06d06ea62",
   "metadata": {},
   "outputs": [
    {
     "data": {
      "text/plain": [
       "Text(0, 0.5, 'price')"
      ]
     },
     "execution_count": 28,
     "metadata": {},
     "output_type": "execute_result"
    },
    {
     "data": {
      "image/png": "[encoded data removed]",
      "text/plain": [
       "<Figure size 864x576 with 1 Axes>"
      ]
     },
     "metadata": {
      "needs_background": "light"
     },
     "output_type": "display_data"
    }
   ],
   "source": [
    "pred_vars = ['batter_capacity_kWh']\n",
    "X = np.array(cars_1[pred_vars]).reshape(-1, 1)\n",
    "y = cars_1['price_in_euros']\n",
    "\n",
    "lm = LinearRegression()\n",
    "lm.fit(X, y)\n",
    "\n",
    "price_preds = lm.predict(X)\n",
    "\n",
    "fig, ax = plt.subplots(figsize = (12, 8))\n",
    "\n",
    "plt.scatter(X, y)\n",
    "plt.plot(X, price_preds, color='red')\n",
    "\n",
    "ax.set_title('Plotting our linear model to predict price vs batter capacity by kilo watt per hour')\n",
    "ax.set_xlabel('Batter Capacity in kilo watt per hour')\n",
    "ax.set_ylabel('price')"
   ]
  },
  {
   "cell_type": "code",
   "execution_count": 29,
   "id": "d3e42e6d-ee50-4187-a3f8-df332ee64e2b",
   "metadata": {},
   "outputs": [
    {
     "data": {
      "text/plain": [
       "array([851.93049777])"
      ]
     },
     "execution_count": 29,
     "metadata": {},
     "output_type": "execute_result"
    }
   ],
   "source": [
    "lm.coef_"
   ]
  },
  {
   "cell_type": "code",
   "execution_count": 30,
   "id": "7dbc11bd-1b4c-4beb-9215-84f128c98c19",
   "metadata": {},
   "outputs": [
    {
     "data": {
      "text/plain": [
       "2889.0870198171688"
      ]
     },
     "execution_count": 30,
     "metadata": {},
     "output_type": "execute_result"
    }
   ],
   "source": [
    "lm.intercept_"
   ]
  },
  {
   "cell_type": "code",
   "execution_count": 31,
   "id": "e40511ec-333f-4519-aaff-3a30ed020f52",
   "metadata": {},
   "outputs": [
    {
     "data": {
      "text/plain": [
       "Text(0, 0.5, 'price')"
      ]
     },
     "execution_count": 31,
     "metadata": {},
     "output_type": "execute_result"
    },
    {
     "data": {
      "image/png": "[encoded data removed]",
      "text/plain": [
       "<Figure size 864x576 with 1 Axes>"
      ]
     },
     "metadata": {
      "needs_background": "light"
     },
     "output_type": "display_data"
    }
   ],
   "source": [
    "pred_vars = ['fast_charge_speed_km_h']\n",
    "X = np.array(cars_1[pred_vars]).reshape(-1, 1)\n",
    "y = cars_1['price_in_euros']\n",
    "\n",
    "lm = LinearRegression()\n",
    "lm.fit(X, y)\n",
    "\n",
    "price_preds = lm.predict(X)\n",
    "\n",
    "fig, ax = plt.subplots(figsize = (12, 8))\n",
    "\n",
    "plt.scatter(X, y)\n",
    "plt.plot(X, price_preds, color='red')\n",
    "\n",
    "ax.set_title('Plotting our linear model to predict price vs fast charge speed for kilometer/hour')\n",
    "ax.set_xlabel('Speed in kilometer/hour')\n",
    "ax.set_ylabel('price')"
   ]
  },
  {
   "cell_type": "code",
   "execution_count": 32,
   "id": "e8291b6a-7842-4d5f-a02b-aee0d83f1ee9",
   "metadata": {},
   "outputs": [
    {
     "data": {
      "text/plain": [
       "array([79.63413575])"
      ]
     },
     "execution_count": 32,
     "metadata": {},
     "output_type": "execute_result"
    }
   ],
   "source": [
    "lm.coef_"
   ]
  },
  {
   "cell_type": "code",
   "execution_count": 33,
   "id": "869da3dd-c864-49b8-a3d3-c7fa7fa6b329",
   "metadata": {},
   "outputs": [
    {
     "data": {
      "text/plain": [
       "20943.492367318373"
      ]
     },
     "execution_count": 33,
     "metadata": {},
     "output_type": "execute_result"
    }
   ],
   "source": [
    "lm.intercept_"
   ]
  },
  {
   "cell_type": "code",
   "execution_count": 34,
   "id": "28f247c3-529e-4765-89f2-b078f89ba4ab",
   "metadata": {},
   "outputs": [
    {
     "data": {
      "text/plain": [
       "Text(0, 0.5, 'price')"
      ]
     },
     "execution_count": 34,
     "metadata": {},
     "output_type": "execute_result"
    },
    {
     "data": {
      "image/png": "[encoded data removed]",
      "text/plain": [
       "<Figure size 864x576 with 1 Axes>"
      ]
     },
     "metadata": {
      "needs_background": "light"
     },
     "output_type": "display_data"
    }
   ],
   "source": [
    "pred_vars = ['efficiency_Wh_km']\n",
    "X = np.array(cars_1[pred_vars]).reshape(-1, 1)\n",
    "y = cars_1['price_in_euros']\n",
    "\n",
    "lm = LinearRegression()\n",
    "lm.fit(X, y)\n",
    "\n",
    "price_preds = lm.predict(X)\n",
    "\n",
    "fig, ax = plt.subplots(figsize = (12, 8))\n",
    "\n",
    "plt.scatter(X, y)\n",
    "plt.plot(X, price_preds, color='red')\n",
    "\n",
    "ax.set_title('Plotting our linear model to predict price vs efficiency by watt hour per kilometer')\n",
    "ax.set_xlabel('Efficiency in watt hour per kilometer')\n",
    "ax.set_ylabel('price')"
   ]
  },
  {
   "cell_type": "code",
   "execution_count": 35,
   "id": "095b536a-a4e2-4ad8-82ec-d4aa6d76730b",
   "metadata": {},
   "outputs": [
    {
     "data": {
      "text/plain": [
       "array([222.14045367])"
      ]
     },
     "execution_count": 35,
     "metadata": {},
     "output_type": "execute_result"
    }
   ],
   "source": [
    "lm.coef_"
   ]
  },
  {
   "cell_type": "code",
   "execution_count": 37,
   "id": "db615430-8c8f-4d17-ae3f-d912fb234572",
   "metadata": {},
   "outputs": [
    {
     "data": {
      "text/plain": [
       "16314.0984011736"
      ]
     },
     "execution_count": 37,
     "metadata": {},
     "output_type": "execute_result"
    }
   ],
   "source": [
    "lm.intercept_"
   ]
  },
  {
   "cell_type": "code",
   "execution_count": 36,
   "id": "b03e4c15-3e5c-409b-8f98-fa52703161db",
   "metadata": {},
   "outputs": [],
   "source": []
  },
  {
   "cell_type": "code",
   "execution_count": 57,
   "id": "cc23f746-8766-4cba-8343-06a96623cdf3",
   "metadata": {},
   "outputs": [
    {
     "data": {
      "text/plain": [
       "Text(0.5, 1.0, 'German Electric Vechicles Distribution')"
      ]
     },
     "execution_count": 57,
     "metadata": {},
     "output_type": "execute_result"
    },
    {
     "data": {
      "image/png": "[encoded data removed]",
      "text/plain": [
       "<Figure size 720x360 with 2 Axes>"
      ]
     },
     "metadata": {
      "needs_background": "light"
     },
     "output_type": "display_data"
    }
   ],
   "source": [
    "fig, ax = plt.subplots(figsize = (10, 5),sharey=True)\n",
    "sns.heatmap(cars_1.pivot_table('price_in_euros','Drive','NumberofSeats',aggfunc='count'),cmap='Blues',annot=True,)\n",
    "ax.set_title('German Electric Vechicles Distribution')"
   ]
  },
  {
   "cell_type": "code",
   "execution_count": 55,
   "id": "725e7d9c-3d4c-4263-aa88-6cc3d961e001",
   "metadata": {},
   "outputs": [
    {
     "data": {
      "text/plain": [
       "<seaborn.axisgrid.FacetGrid at 0x1b9332ee580>"
      ]
     },
     "execution_count": 55,
     "metadata": {},
     "output_type": "execute_result"
    },
    {
     "data": {
      "image/png": "[encoded data removed]",
      "text/plain": [
       "<Figure size 1058.4x504 with 3 Axes>"
      ]
     },
     "metadata": {
      "needs_background": "light"
     },
     "output_type": "display_data"
    }
   ],
   "source": [
    "sns.catplot(data=cars_1,y='price_in_euros',x='Drive',col='NumberofSeats',kind='box',height=7,aspect=0.7,palette='Set2')"
   ]
  },
  {
   "cell_type": "markdown",
   "id": "c5bce9f5-845e-45b9-b7f7-4d6ffc9fe4ce",
   "metadata": {},
   "source": [
    "* The Most expensive electric cars are 4 seater, All wheel drives and have the widest range of price options"
   ]
  },
  {
   "cell_type": "code",
   "execution_count": null,
   "id": "0f0847c7-04e3-420f-96b9-8748d3cb2288",
   "metadata": {},
   "outputs": [],
   "source": []
  }
 ],
 "metadata": {
  "kernelspec": {
   "display_name": "Python 3 (ipykernel)",
   "language": "python",
   "name": "python3"
  },
  "language_info": {
   "codemirror_mode": {
    "name": "ipython",
    "version": 3
   },
   "file_extension": ".py",
   "mimetype": "text/x-python",
   "name": "python",
   "nbconvert_exporter": "python",
   "pygments_lexer": "ipython3",
   "version": "3.9.7"
  }
 },
 "nbformat": 4,
 "nbformat_minor": 5
}
