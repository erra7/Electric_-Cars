{
 "cells": [
  {
   "cell_type": "code",
   "execution_count": 1,
   "metadata": {},
   "outputs": [
    {
     "data": {
      "text/html": [
       "<div>\n",
       "<style scoped>\n",
       "    .dataframe tbody tr th:only-of-type {\n",
       "        vertical-align: middle;\n",
       "    }\n",
       "\n",
       "    .dataframe tbody tr th {\n",
       "        vertical-align: top;\n",
       "    }\n",
       "\n",
       "    .dataframe thead th {\n",
       "        text-align: right;\n",
       "    }\n",
       "</style>\n",
       "<table border=\"1\" class=\"dataframe\">\n",
       "  <thead>\n",
       "    <tr style=\"text-align: right;\">\n",
       "      <th></th>\n",
       "      <th>Name</th>\n",
       "      <th>Subtitle</th>\n",
       "      <th>Acceleration</th>\n",
       "      <th>TopSpeed</th>\n",
       "      <th>Range</th>\n",
       "      <th>Efficiency</th>\n",
       "      <th>FastChargeSpeed</th>\n",
       "      <th>Drive</th>\n",
       "      <th>NumberofSeats</th>\n",
       "      <th>PriceinGermany</th>\n",
       "      <th>PriceinUK</th>\n",
       "    </tr>\n",
       "  </thead>\n",
       "  <tbody>\n",
       "    <tr>\n",
       "      <th>154</th>\n",
       "      <td>Polestar 2 Long Range Dual Motor</td>\n",
       "      <td>Battery Electric Vehicle |       75 kWh</td>\n",
       "      <td>4.7 sec</td>\n",
       "      <td>205 km/h</td>\n",
       "      <td>395 km</td>\n",
       "      <td>190 Wh/km</td>\n",
       "      <td>510 km/h</td>\n",
       "      <td>All Wheel Drive</td>\n",
       "      <td>5</td>\n",
       "      <td>€52,500</td>\n",
       "      <td>£45,900</td>\n",
       "    </tr>\n",
       "    <tr>\n",
       "      <th>83</th>\n",
       "      <td>Nissan Ariya e-4ORCE 63kWh</td>\n",
       "      <td>Battery Electric Vehicle |       63 kWh</td>\n",
       "      <td>5.9 sec</td>\n",
       "      <td>200 km/h</td>\n",
       "      <td>325 km</td>\n",
       "      <td>194 Wh/km</td>\n",
       "      <td>440 km/h</td>\n",
       "      <td>All Wheel Drive</td>\n",
       "      <td>5</td>\n",
       "      <td>€50,000</td>\n",
       "      <td>£45,000</td>\n",
       "    </tr>\n",
       "    <tr>\n",
       "      <th>131</th>\n",
       "      <td>Volvo C40 Recharge</td>\n",
       "      <td>Battery Electric Vehicle |       75 kWh</td>\n",
       "      <td>4.7 sec</td>\n",
       "      <td>180 km/h</td>\n",
       "      <td>340 km</td>\n",
       "      <td>221 Wh/km</td>\n",
       "      <td>440 km/h</td>\n",
       "      <td>All Wheel Drive</td>\n",
       "      <td>5</td>\n",
       "      <td>€62,050</td>\n",
       "      <td>£57,400</td>\n",
       "    </tr>\n",
       "    <tr>\n",
       "      <th>26</th>\n",
       "      <td>Porsche Taycan 4 Cross Turismo</td>\n",
       "      <td>Battery Electric Vehicle |       83.7 kWh</td>\n",
       "      <td>5.1 sec</td>\n",
       "      <td>220 km/h</td>\n",
       "      <td>405 km</td>\n",
       "      <td>207 Wh/km</td>\n",
       "      <td>850 km/h</td>\n",
       "      <td>All Wheel Drive</td>\n",
       "      <td>4</td>\n",
       "      <td>€93,635</td>\n",
       "      <td>£79,340</td>\n",
       "    </tr>\n",
       "    <tr>\n",
       "      <th>0</th>\n",
       "      <td>Opel Ampera-e</td>\n",
       "      <td>Battery Electric Vehicle |       58 kWh</td>\n",
       "      <td>7.3 sec</td>\n",
       "      <td>150 km/h</td>\n",
       "      <td>335 km</td>\n",
       "      <td>173 Wh/km</td>\n",
       "      <td>210 km/h</td>\n",
       "      <td>Front Wheel Drive</td>\n",
       "      <td>5</td>\n",
       "      <td>€42,990</td>\n",
       "      <td>NaN</td>\n",
       "    </tr>\n",
       "  </tbody>\n",
       "</table>\n",
       "</div>"
      ],
      "text/plain": [
       "                                 Name  \\\n",
       "154  Polestar 2 Long Range Dual Motor   \n",
       "83         Nissan Ariya e-4ORCE 63kWh   \n",
       "131                Volvo C40 Recharge   \n",
       "26     Porsche Taycan 4 Cross Turismo   \n",
       "0                      Opel Ampera-e    \n",
       "\n",
       "                                      Subtitle Acceleration  TopSpeed   Range  \\\n",
       "154   Battery Electric Vehicle |       75 kWh       4.7 sec  205 km/h  395 km   \n",
       "83     Battery Electric Vehicle |       63 kWh      5.9 sec  200 km/h  325 km   \n",
       "131    Battery Electric Vehicle |       75 kWh      4.7 sec  180 km/h  340 km   \n",
       "26   Battery Electric Vehicle |       83.7 kWh      5.1 sec  220 km/h  405 km   \n",
       "0     Battery Electric Vehicle |       58 kWh       7.3 sec  150 km/h  335 km   \n",
       "\n",
       "    Efficiency FastChargeSpeed              Drive  NumberofSeats  \\\n",
       "154  190 Wh/km        510 km/h    All Wheel Drive              5   \n",
       "83   194 Wh/km        440 km/h    All Wheel Drive              5   \n",
       "131  221 Wh/km        440 km/h    All Wheel Drive              5   \n",
       "26   207 Wh/km        850 km/h    All Wheel Drive              4   \n",
       "0    173 Wh/km        210 km/h  Front Wheel Drive              5   \n",
       "\n",
       "    PriceinGermany PriceinUK  \n",
       "154        €52,500   £45,900  \n",
       "83         €50,000   £45,000  \n",
       "131        €62,050   £57,400  \n",
       "26         €93,635   £79,340  \n",
       "0          €42,990       NaN  "
      ]
     },
     "execution_count": 1,
     "metadata": {},
     "output_type": "execute_result"
    }
   ],
   "source": [
    "import pandas as pd\n",
    "\n",
    "electric_cars = pd.read_csv('Cheapestelectriccars-EVDatabase.csv')\n",
    "electric_cars.sample(5)"
   ]
  },
  {
   "cell_type": "markdown",
   "metadata": {},
   "source": [
    "* Clean col names\n",
    "* Create linear model acceleration, top speed & range"
   ]
  },
  {
   "cell_type": "code",
   "execution_count": 2,
   "metadata": {},
   "outputs": [
    {
     "data": {
      "text/html": [
       "<div>\n",
       "<style scoped>\n",
       "    .dataframe tbody tr th:only-of-type {\n",
       "        vertical-align: middle;\n",
       "    }\n",
       "\n",
       "    .dataframe tbody tr th {\n",
       "        vertical-align: top;\n",
       "    }\n",
       "\n",
       "    .dataframe thead th {\n",
       "        text-align: right;\n",
       "    }\n",
       "</style>\n",
       "<table border=\"1\" class=\"dataframe\">\n",
       "  <thead>\n",
       "    <tr style=\"text-align: right;\">\n",
       "      <th></th>\n",
       "      <th>acceleration_in_sec</th>\n",
       "      <th>top_speed_km_h</th>\n",
       "      <th>range_km</th>\n",
       "      <th>price</th>\n",
       "    </tr>\n",
       "  </thead>\n",
       "  <tbody>\n",
       "    <tr>\n",
       "      <th>102</th>\n",
       "      <td>12.1</td>\n",
       "      <td>130</td>\n",
       "      <td>185</td>\n",
       "      <td>50880.0</td>\n",
       "    </tr>\n",
       "    <tr>\n",
       "      <th>144</th>\n",
       "      <td>7.4</td>\n",
       "      <td>185</td>\n",
       "      <td>385</td>\n",
       "      <td>45100.0</td>\n",
       "    </tr>\n",
       "    <tr>\n",
       "      <th>110</th>\n",
       "      <td>13.3</td>\n",
       "      <td>130</td>\n",
       "      <td>270</td>\n",
       "      <td>59800.0</td>\n",
       "    </tr>\n",
       "    <tr>\n",
       "      <th>61</th>\n",
       "      <td>5.7</td>\n",
       "      <td>190</td>\n",
       "      <td>475</td>\n",
       "      <td>58300.0</td>\n",
       "    </tr>\n",
       "    <tr>\n",
       "      <th>124</th>\n",
       "      <td>2.1</td>\n",
       "      <td>322</td>\n",
       "      <td>535</td>\n",
       "      <td>126990.0</td>\n",
       "    </tr>\n",
       "  </tbody>\n",
       "</table>\n",
       "</div>"
      ],
      "text/plain": [
       "     acceleration_in_sec  top_speed_km_h  range_km     price\n",
       "102                 12.1             130       185   50880.0\n",
       "144                  7.4             185       385   45100.0\n",
       "110                 13.3             130       270   59800.0\n",
       "61                   5.7             190       475   58300.0\n",
       "124                  2.1             322       535  126990.0"
      ]
     },
     "execution_count": 2,
     "metadata": {},
     "output_type": "execute_result"
    }
   ],
   "source": [
    "ecars_cl = (electric_cars\n",
    "    .assign(\n",
    "        acceleration_in_sec = lambda df_ : df_['Acceleration'].str.replace(' sec', '').astype('float32'), \n",
    "        top_speed_km_h = lambda df_ : df_['TopSpeed'].str.replace(' km/h','').astype('int32'), \n",
    "        range_km = lambda df_ : df_['Range'].str.replace(' km','').astype('int32'), \n",
    "        price = lambda df_ : df_['PriceinGermany'].str.replace('[ €]|[,]', '', regex=True).astype('float32')\n",
    "        )\n",
    "    .filter(['acceleration_in_sec','top_speed_km_h','range_km','price'])\n",
    "    .dropna()\n",
    ")\n",
    "\n",
    "ecars_cl.sample(5)"
   ]
  },
  {
   "cell_type": "code",
   "execution_count": 3,
   "metadata": {},
   "outputs": [
    {
     "data": {
      "text/plain": [
       "Text(0, 0.5, 'price')"
      ]
     },
     "execution_count": 3,
     "metadata": {},
     "output_type": "execute_result"
    },
    {
     "data": {
      "image/png": "[encoded data removed]",
      "text/plain": [
       "<Figure size 864x576 with 1 Axes>"
      ]
     },
     "metadata": {
      "needs_background": "light"
     },
     "output_type": "display_data"
    }
   ],
   "source": [
    "import numpy as np\n",
    "import matplotlib.pyplot as plt\n",
    "from sklearn.linear_model import LinearRegression\n",
    "\n",
    "pred_vars = ['acceleration_in_sec']\n",
    "X = np.array(ecars_cl[pred_vars]).reshape(-1, 1)\n",
    "y = ecars_cl['price']\n",
    "\n",
    "lm = LinearRegression()\n",
    "lm.fit(X, y)\n",
    "\n",
    "price_preds = lm.predict(X)\n",
    "\n",
    "fig, ax = plt.subplots(figsize = (12, 8))\n",
    "\n",
    "plt.scatter(X, y)\n",
    "plt.plot(X, price_preds, color='red')\n",
    "\n",
    "ax.set_title('Plotting our linear model to predict price vs acceleration by second')\n",
    "ax.set_xlabel('Acceleration in seconds')\n",
    "ax.set_ylabel('price')"
   ]
  },
  {
   "cell_type": "code",
   "execution_count": 4,
   "metadata": {},
   "outputs": [
    {
     "data": {
      "text/plain": [
       "array([-6034.475], dtype=float32)"
      ]
     },
     "execution_count": 4,
     "metadata": {},
     "output_type": "execute_result"
    }
   ],
   "source": [
    "lm.coef_"
   ]
  },
  {
   "cell_type": "code",
   "execution_count": 5,
   "metadata": {},
   "outputs": [
    {
     "data": {
      "text/plain": [
       "105657.8"
      ]
     },
     "execution_count": 5,
     "metadata": {},
     "output_type": "execute_result"
    }
   ],
   "source": [
    "lm.intercept_"
   ]
  },
  {
   "cell_type": "markdown",
   "metadata": {},
   "source": [
    "Linear mode formula based on acceleration: \n",
    "\n",
    "$$\n",
    "price = 105657.81 + (-6034.477)*acceleration\\_in\\_sec\n",
    "$$"
   ]
  },
  {
   "cell_type": "markdown",
   "metadata": {},
   "source": []
  },
  {
   "cell_type": "code",
   "execution_count": 6,
   "metadata": {},
   "outputs": [
    {
     "data": {
      "text/plain": [
       "Text(0, 0.5, 'price')"
      ]
     },
     "execution_count": 6,
     "metadata": {},
     "output_type": "execute_result"
    },
    {
     "data": {
      "image/png": "[encoded data removed]",
      "text/plain": [
       "<Figure size 864x576 with 1 Axes>"
      ]
     },
     "metadata": {
      "needs_background": "light"
     },
     "output_type": "display_data"
    }
   ],
   "source": [
    "pred_vars = ['top_speed_km_h']\n",
    "X = np.array(ecars_cl[pred_vars]).reshape(-1, 1)\n",
    "y = ecars_cl['price']\n",
    "\n",
    "lm = LinearRegression()\n",
    "lm.fit(X, y)\n",
    "\n",
    "price_preds = lm.predict(X)\n",
    "\n",
    "fig, ax = plt.subplots(figsize = (12, 8))\n",
    "\n",
    "plt.scatter(X, y)\n",
    "plt.plot(X, price_preds, color='red')\n",
    "\n",
    "ax.set_title('Plotting our linear model to predict price vs top speed by kilometer/hour')\n",
    "ax.set_xlabel('Top Speed in km_h')\n",
    "ax.set_ylabel('price')"
   ]
  },
  {
   "cell_type": "code",
   "execution_count": 7,
   "metadata": {},
   "outputs": [
    {
     "data": {
      "text/plain": [
       "array([576.72544447])"
      ]
     },
     "execution_count": 7,
     "metadata": {},
     "output_type": "execute_result"
    }
   ],
   "source": [
    "lm.coef_"
   ]
  },
  {
   "cell_type": "code",
   "execution_count": 8,
   "metadata": {},
   "outputs": [
    {
     "data": {
      "text/plain": [
       "-43145.610504347715"
      ]
     },
     "execution_count": 8,
     "metadata": {},
     "output_type": "execute_result"
    }
   ],
   "source": [
    "lm.intercept_"
   ]
  },
  {
   "cell_type": "code",
   "execution_count": 9,
   "metadata": {},
   "outputs": [
    {
     "data": {
      "text/plain": [
       "Text(0, 0.5, 'price')"
      ]
     },
     "execution_count": 9,
     "metadata": {},
     "output_type": "execute_result"
    },
    {
     "data": {
      "image/png": "[encoded data removed]",
      "text/plain": [
       "<Figure size 864x576 with 1 Axes>"
      ]
     },
     "metadata": {
      "needs_background": "light"
     },
     "output_type": "display_data"
    }
   ],
   "source": [
    "pred_vars = ['range_km']\n",
    "X = np.array(ecars_cl[pred_vars]).reshape(-1, 1)\n",
    "y = ecars_cl['price']\n",
    "\n",
    "lm = LinearRegression()\n",
    "lm.fit(X, y)\n",
    "\n",
    "price_preds = lm.predict(X)\n",
    "\n",
    "fig, ax = plt.subplots(figsize = (12, 8))\n",
    "\n",
    "plt.scatter(X, y)\n",
    "plt.plot(X, price_preds, color='red')\n",
    "\n",
    "ax.set_title('Plotting our linear model to predict price vs range  by kilometer')\n",
    "ax.set_xlabel('Range in km')\n",
    "ax.set_ylabel('price')"
   ]
  },
  {
   "cell_type": "code",
   "execution_count": 10,
   "metadata": {},
   "outputs": [
    {
     "data": {
      "text/plain": [
       "array([169.56335236])"
      ]
     },
     "execution_count": 10,
     "metadata": {},
     "output_type": "execute_result"
    }
   ],
   "source": [
    "lm.coef_"
   ]
  },
  {
   "cell_type": "code",
   "execution_count": 11,
   "metadata": {},
   "outputs": [
    {
     "data": {
      "text/plain": [
       "1346.3596338269563"
      ]
     },
     "execution_count": 11,
     "metadata": {},
     "output_type": "execute_result"
    }
   ],
   "source": [
    "lm.intercept_"
   ]
  },
  {
   "cell_type": "code",
   "execution_count": null,
   "metadata": {},
   "outputs": [],
   "source": []
  },
  {
   "cell_type": "code",
   "execution_count": null,
   "metadata": {},
   "outputs": [],
   "source": []
  }
 ],
 "metadata": {
  "interpreter": {
   "hash": "c2238120c9728f74513279f8a3f1aeaaba1d165fa4f95681a8f2d6d36a71a29d"
  },
  "kernelspec": {
   "display_name": "Python 3 (ipykernel)",
   "language": "python",
   "name": "python3"
  },
  "language_info": {
   "codemirror_mode": {
    "name": "ipython",
    "version": 3
   },
   "file_extension": ".py",
   "mimetype": "text/x-python",
   "name": "python",
   "nbconvert_exporter": "python",
   "pygments_lexer": "ipython3",
   "version": "3.9.7"
  }
 },
 "nbformat": 4,
 "nbformat_minor": 4
}
